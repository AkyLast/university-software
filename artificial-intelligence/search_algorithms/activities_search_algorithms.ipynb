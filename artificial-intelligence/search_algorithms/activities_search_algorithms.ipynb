{
  "cells": [
    {
      "cell_type": "markdown",
      "id": "567fcc95",
      "metadata": {
        "id": "567fcc95"
      },
      "source": [
        "<a href=\"https://colab.research.google.com/github/thalesvalente/teaching/blob/main/formal-languages-and-automata/1-lessons/slides-1.ipynb\" target=\"_parent\"><img src=\"https://colab.research.google.com/assets/colab-badge.svg\" alt=\"Open In Colab\"/></a>\n",
        "\n",
        "**Professor:** Dr. [Thales Levi Azevedo Valente], Universidade de Federal do Maranhão  \n",
        "**Disciplina:** Engenharia da Computação - Inteligência Artificial  \n",
        "**Assunto:** Atividades de Algoritmos de Busca\n",
        "**Instruções:**\n",
        "- Entregar pelo sigaa\n",
        "- Nome do arquivo deve ser o \"nome_sobrenome_{ultima letra do nome}.ipynb\"\n",
        "- Criar seus próprios nomes de variáveis ou funções. Códigos idênticos serão eliminados!!!"
      ]
    },
    {
      "cell_type": "markdown",
      "id": "9e60244f",
      "metadata": {
        "id": "9e60244f"
      },
      "source": [
        "# 0 - Conceitos Introdutórios de Grafos"
      ]
    },
    {
      "cell_type": "markdown",
      "id": "14980043",
      "metadata": {
        "id": "14980043"
      },
      "source": [
        "### Slide 48 - Definição de Grafo"
      ]
    },
    {
      "cell_type": "markdown",
      "id": "af48bf4b",
      "metadata": {
        "id": "af48bf4b"
      },
      "source": [
        "Um **grafo** é um par ordenado $(V, A)$, onde:\n",
        "- $V$ é o conjunto de **vértices** (ou nós) do grafo.\n",
        "- $A$ é a relação binária sobre $V$, que especifica os **arcos** (ou arestas) do grafo.\n",
        "\n",
        "Vertices $v_i, v_j \\in V$ tais que $(v_i, v_j) \\in A$ são ditos adjacentes, significando que eles são conectados por um arco.\n",
        "\n",
        "_**Exemplo de um Grafo**_\n",
        "\n",
        "Considere o grafo $G_1$ representado textualmente e graficamente:\n",
        "\n",
        "- $G_1 = (V_1, A_1)$\n",
        "- $V_1 = \\{0, 1, 2, 3\\}$\n",
        "- $A_1 = \\{(0, 1), (0, 2), (0, 3), (1, 3), (2, 3)\\}$\n",
        "\n",
        "Graficamente, o grafo $G_1$ pode ser representado com círculos denotando os vértices e linhas denotando os arcos entre eles. Infelizmente, não posso renderizar ou incluir imagens diretamente aqui, mas a representação seria um ponto para cada vértice conectado por linhas que representam os arcos especificados em $A_1$.\n",
        "\n",
        "Cada vértice em $V_1$ é um ponto numerado de 0 a 3, e cada par em $A_1$ indica uma linha conectando dois vértices. Por exemplo, o par $(0, 1)$ representa uma linha conectando os vértices 0 e 1.\n"
      ]
    },
    {
      "cell_type": "code",
      "execution_count": null,
      "id": "2d36b675",
      "metadata": {
        "id": "2d36b675"
      },
      "outputs": [],
      "source": []
    },
    {
      "cell_type": "markdown",
      "id": "2162e512",
      "metadata": {
        "id": "2162e512"
      },
      "source": [
        "### Slide 49 - Grafo Orientado"
      ]
    },
    {
      "cell_type": "markdown",
      "id": "7782afff",
      "metadata": {
        "id": "7782afff"
      },
      "source": [
        "**_Definição de Grafo Orientado_**\n",
        "\n",
        "- Um grafo orientado, ou digrafo, é aquele em que os pares ordenados $(v_i, v_j) \\in A$ representam arcos com uma direção específica, de $v_i$ para $v_j$.\n",
        "- Em um grafo orientado:\n",
        "  - Se $(v_i, v_j) \\in A$, então $v_i$ é chamado de predecessor de $v_j$, e $v_j$ é chamado de sucessor de $v_i$.\n",
        "- Considere o grafo orientado $G_2$:\n",
        "  - $V_2 = \\{0, 1, 2, 3\\}$ representa o conjunto de vértices.\n",
        "  - $A_2 = \\{(0, 1), (0, 2), (0, 3), (1, 3), (2, 3)\\}$ representa o conjunto de arcos, indicando a direção da relação entre os vértices.\n",
        "\n",
        "_**Grafo $G_2$**_\n",
        "\n",
        "- Vértices: $V_2 = \\{0, 1, 2, 3\\}$\n",
        "- Arcos: $A_2 = \\{(0, 1), (0, 2), (0, 3), (1, 3), (2, 3)\\}$"
      ]
    },
    {
      "cell_type": "code",
      "execution_count": null,
      "id": "50c990b1",
      "metadata": {
        "id": "50c990b1"
      },
      "outputs": [],
      "source": []
    },
    {
      "cell_type": "markdown",
      "id": "38cab45f",
      "metadata": {
        "id": "38cab45f"
      },
      "source": [
        "### Slide 50 - Grafo Ordenado"
      ]
    },
    {
      "cell_type": "markdown",
      "id": "505659d9",
      "metadata": {
        "id": "505659d9"
      },
      "source": [
        "Um grafo é considerado **ordenado** se existe uma relação de ordem pré-definida sobre os arcos que saem de cada vértice. No grafo $G_3$, temos:\n",
        "\n",
        "- **Conjunto de Vértices**: $V_3 = \\{a, b, c, d\\}$\n",
        "- **Conjunto de Arcos**: $A_3 = \\{(a,b), (b,a), (a,c), (a,d), (c,b), (d,c), (c,d)\\}$\n",
        "\n",
        "A relação de ordem entre os arcos é dada por:\n",
        "$$\n",
        "(a,b) < (b,a) < (a,c) < (a,d) < (c,b) < (d,c) < (c,d)\n",
        "$$\n",
        "\n",
        "Isso significa que, para o vértice $a$, os arcos são ordenados da seguinte forma:\n",
        "- Saindo de $a$: $(a,b)$, $(a,c)$, $(a,d)$\n",
        "\n",
        "Para o vértice $b$:\n",
        "- Saindo de $b$: $(b,a)$\n",
        "\n",
        "Para o vértice $c$:\n",
        "- Saindo de $c$: $(c,b)$, $(c,d)$\n",
        "\n",
        "Para o vértice $d$:\n",
        "- Saindo de $d$: $(d,c)$\n"
      ]
    },
    {
      "cell_type": "code",
      "execution_count": 1,
      "id": "f4827910",
      "metadata": {
        "colab": {
          "base_uri": "https://localhost:8080/",
          "height": 406
        },
        "id": "f4827910",
        "outputId": "63e005e1-c877-4569-bd4d-fbd14683d7ab"
      },
      "outputs": [
        {
          "output_type": "display_data",
          "data": {
            "text/plain": [
              "<Figure size 640x480 with 1 Axes>"
            ],
            "image/png": "[encoded data removed]"
          },
          "metadata": {}
        }
      ],
      "source": [
        "import networkx as nx\n",
        "import matplotlib.pyplot as plt\n",
        "\n",
        "# Criando um grafo direcionado\n",
        "G = nx.MultiDiGraph()\n",
        "\n",
        "# Adicionando vértices e arestas com pesos\n",
        "G.add_edge('a', 'b', weight=1)\n",
        "G.add_edge('b', 'a', weight=1)\n",
        "G.add_edge('a', 'c', weight=2)\n",
        "G.add_edge('a', 'd', weight=3)\n",
        "G.add_edge('c', 'b', weight=1)\n",
        "G.add_edge('d', 'c', weight=1)\n",
        "G.add_edge('c', 'd', weight=2)\n",
        "G.add_edge('b', 'c', weight=1)\n",
        "\n",
        "# Definindo a posição dos vértices\n",
        "pos = {'a': (0, 1), 'b': (1, 1), 'c': (1, 0), 'd': (0, 0)}\n",
        "\n",
        "# Desenhando o grafo com arcos curvos para arestas bidirecionais\n",
        "nx.draw_networkx_nodes(G, pos, node_size=700, node_color='skyblue')\n",
        "nx.draw_networkx_labels(G, pos, font_size=15)\n",
        "\n",
        "# Desenhar as arestas com curvas suaves para distinguir as bidirecionais\n",
        "for (u, v, key) in G.edges(keys=True):\n",
        "    style = 'arc3, rad=0.1' if key == 0 else 'arc3, rad=-0.1'\n",
        "    nx.draw_networkx_edges(G, pos, edgelist=[(u, v)], connectionstyle=style)\n",
        "\n",
        "# [(Atribuicao) for variaveis in iteravel if condicao]\n",
        "# Adicionando rótulos de aresta no início de cada aresta\n",
        "## build edge_labels using for without list comprehension technique\n",
        "edge_labels = {}\n",
        "for u, v, d in G.edges(data=True):\n",
        "    edge_labels[(u, v)] = d['weight']\n",
        "\n",
        "edge_labels = {(u, v): d['weight'] for u, v, d in G.edges(data=True)}\n",
        "for (u, v), weight in edge_labels.items():\n",
        "    # Define o deslocamento para mover os rótulos para perto do nó de origem\n",
        "    edge_pos = pos[u]\n",
        "    text_pos = (edge_pos[0] * 0.9 + pos[v][0] * 0.1, edge_pos[1] * 0.9 + pos[v][1] * 0.1)\n",
        "\n",
        "    # Desenha os rótulos das arestas com fundo branco para melhor visibilidade\n",
        "    plt.text(text_pos[0], text_pos[1], s=weight, bbox=dict(facecolor='white', edgecolor='none', boxstyle='round,pad=0.1'))\n",
        "\n",
        "# Mostrando o grafo\n",
        "plt.axis('off')  # Desliga os eixos\n",
        "plt.show()\n"
      ]
    },
    {
      "cell_type": "markdown",
      "id": "b9140531",
      "metadata": {
        "id": "b9140531"
      },
      "source": [
        "### Slide 51 - Conceitos de Grafos Orientados"
      ]
    },
    {
      "cell_type": "markdown",
      "id": "38d06d27",
      "metadata": {
        "id": "38d06d27"
      },
      "source": [
        "Em um grafo orientado, podemos definir conceitos importantes baseados nas conexões entre os vértices:\n",
        "\n",
        "- **Ramificação de Saída ($N_S$)**: Número de arcos que partem de um vértice.\n",
        "- **Ramificação de Entrada ($N_E$)**: Número de arcos que chegam a um vértice.\n",
        "- **Vértices-base ou Vértices-raiz**: Vértices que não têm arcos chegando a eles ($N_E = 0$).\n",
        "- **Vértices-folha**: Vértices que não têm arcos partindo deles ($N_S = 0$).\n",
        "\n",
        "Considerando o grafo $G_3$, temos:\n",
        "\n",
        "- Vértice $a$: Ramificação de Saída $N_S(a) = 3$, Ramificação de Entrada $N_E(a) = 1$\n",
        "- Vértice $b$: Ramificação de Saída $N_S(b) = 1$, Ramificação de Entrada $N_E(b) = 2$\n",
        "- Vértice $c$: Ramificação de Saída $N_S(c) = 2$, Ramificação de Entrada $N_E(c) = 2$\n",
        "- Vértice $d$: Ramificação de Saída $N_S(d) = 1$, Ramificação de Entrada $N_E(d) = 2$\n",
        "\n",
        "Desta forma, no grafo $G_3$, não temos vértices-base ou vértices-folha, pois todos os vértices têm pelo menos uma ramificação de saída e uma de entrada.\n"
      ]
    },
    {
      "cell_type": "code",
      "execution_count": 1,
      "id": "4b245ecb",
      "metadata": {
        "id": "4b245ecb"
      },
      "outputs": [],
      "source": []
    },
    {
      "cell_type": "code",
      "execution_count": 2,
      "id": "b00488dd",
      "metadata": {
        "colab": {
          "base_uri": "https://localhost:8080/",
          "height": 211
        },
        "id": "b00488dd",
        "outputId": "5a797466-28d9-40b2-a53f-82112ac1fce5"
      },
      "outputs": [
        {
          "output_type": "error",
          "ename": "NameError",
          "evalue": "name 'G3' is not defined",
          "traceback": [
            "\u001b[0;31m---------------------------------------------------------------------------\u001b[0m",
            "\u001b[0;31mNameError\u001b[0m                                 Traceback (most recent call last)",
            "\u001b[0;32m<ipython-input-2-2081359374>\u001b[0m in \u001b[0;36m<cell line: 0>\u001b[0;34m()\u001b[0m\n\u001b[1;32m      6\u001b[0m \u001b[0;34m\u001b[0m\u001b[0m\n\u001b[1;32m      7\u001b[0m \u001b[0;31m# Encontrar e imprimir os vértices-base/raiz e vértices-folha\u001b[0m\u001b[0;34m\u001b[0m\u001b[0;34m\u001b[0m\u001b[0m\n\u001b[0;32m----> 8\u001b[0;31m \u001b[0mroot_nodes\u001b[0m\u001b[0;34m,\u001b[0m \u001b[0mleaf_nodes\u001b[0m \u001b[0;34m=\u001b[0m \u001b[0mfind_root_and_leaf_nodes\u001b[0m\u001b[0;34m(\u001b[0m\u001b[0mG3\u001b[0m\u001b[0;34m)\u001b[0m\u001b[0;34m\u001b[0m\u001b[0;34m\u001b[0m\u001b[0m\n\u001b[0m\u001b[1;32m      9\u001b[0m \u001b[0mprint\u001b[0m\u001b[0;34m(\u001b[0m\u001b[0;34mf'Vertices-base/raiz: {root_nodes}'\u001b[0m\u001b[0;34m)\u001b[0m\u001b[0;34m\u001b[0m\u001b[0;34m\u001b[0m\u001b[0m\n\u001b[1;32m     10\u001b[0m \u001b[0mprint\u001b[0m\u001b[0;34m(\u001b[0m\u001b[0;34mf'Vertices-folha: {leaf_nodes}'\u001b[0m\u001b[0;34m)\u001b[0m\u001b[0;34m\u001b[0m\u001b[0;34m\u001b[0m\u001b[0m\n",
            "\u001b[0;31mNameError\u001b[0m: name 'G3' is not defined"
          ]
        }
      ],
      "source": [
        "# Função para encontrar vértices-base/raiz e vértices-folha\n",
        "def find_root_and_leaf_nodes(G):\n",
        "    root_nodes = [node for node, deg in G.in_degree() if deg == 0]\n",
        "    leaf_nodes = [node for node, deg in G.out_degree() if deg == 0]\n",
        "    return root_nodes, leaf_nodes\n",
        "\n",
        "# Encontrar e imprimir os vértices-base/raiz e vértices-folha\n",
        "root_nodes, leaf_nodes = find_root_and_leaf_nodes(G3)\n",
        "print(f'Vertices-base/raiz: {root_nodes}')\n",
        "print(f'Vertices-folha: {leaf_nodes}')\n",
        "\n",
        "# Calcula a ramificação de saída e de entrada para cada vértice\n",
        "ramificacao_saida = {node: G.out_degree(node) for node in G.nodes()}\n",
        "ramificacao_entrada = {node: G.in_degree(node) for node in G.nodes()}\n",
        "\n",
        "# Exibe as ramificações para cada vértice\n",
        "print(\"Ramificação de Saída:\", ramificacao_saida)\n",
        "print(\"Ramificação de Entrada:\", ramificacao_entrada)"
      ]
    },
    {
      "cell_type": "markdown",
      "id": "9700f159",
      "metadata": {
        "id": "9700f159"
      },
      "source": [
        "### Slide 52 - Caminhos e Ciclos em Grafos"
      ]
    },
    {
      "cell_type": "markdown",
      "id": "14d640b8",
      "metadata": {
        "id": "14d640b8"
      },
      "source": [
        "Um **caminho** em um grafo é uma sequência de arcos que conectam uma série de vértices, começando no vértice inicial e terminando no vértice final, de tal forma que cada arco está diretamente conectado ao próximo.\n",
        "\n",
        "Um **ciclo** é um caminho particular que começa e termina no mesmo vértice.\n",
        "\n",
        "- **Caminho**: Para o grafo $G_3$, a sequência $(a, c)(c, b)$ é um caminho válido de comprimento 2.\n",
        "- **Ciclo**: O grafo $G_3$ é cíclico, pois contém ciclos, por exemplo, $(a, b)(b, a)$.\n",
        "- **Grafo Cíclico**: Um grafo é cíclico se contém pelo menos um ciclo.\n",
        "- **Grafo Acíclico**: Um grafo é acíclico se não contém nenhum ciclo.\n"
      ]
    },
    {
      "cell_type": "code",
      "execution_count": 3,
      "id": "2ae9fd2c",
      "metadata": {
        "colab": {
          "base_uri": "https://localhost:8080/",
          "height": 510
        },
        "id": "2ae9fd2c",
        "outputId": "c50ad6eb-e960-4392-9c76-3b261fc0315a"
      },
      "outputs": [
        {
          "output_type": "display_data",
          "data": {
            "text/plain": [
              "<Figure size 640x480 with 1 Axes>"
            ],
            "image/png": "[encoded data removed]"
          },
          "metadata": {}
        },
        {
          "output_type": "stream",
          "name": "stdout",
          "text": [
            "Caminhos de 'a' para 'b':\n",
            "['a', 'b']\n",
            "['a', 'c', 'b']\n",
            "['a', 'd', 'c', 'b']\n",
            "O grafo G3 é cíclico? Sim\n",
            "Um ciclo em G3: [('a', 'b', 0), ('b', 'a', 0)]\n"
          ]
        }
      ],
      "source": [
        "import networkx as nx\n",
        "import matplotlib.pyplot as plt\n",
        "\n",
        "# Criando um grafo direcionado\n",
        "G = nx.MultiDiGraph()\n",
        "\n",
        "# Adicionando vértices e arestas com pesos\n",
        "G.add_edge('a', 'b', weight=1)\n",
        "G.add_edge('b', 'a', weight=1)\n",
        "G.add_edge('a', 'c', weight=2)\n",
        "G.add_edge('a', 'd', weight=3)\n",
        "G.add_edge('c', 'b', weight=1)\n",
        "G.add_edge('d', 'c', weight=1)\n",
        "G.add_edge('c', 'd', weight=2)\n",
        "\n",
        "# Definindo a posição dos vértices\n",
        "pos = {'a': (0, 1), 'b': (1, 1), 'c': (1, 0), 'd': (0, 0)}\n",
        "\n",
        "# Desenhando o grafo com arcos curvos para arestas bidirecionais\n",
        "nx.draw_networkx_nodes(G, pos, node_size=200, node_color='skyblue')\n",
        "nx.draw_networkx_labels(G, pos, font_size=15)\n",
        "\n",
        "# Desenhar as arestas com curvas suaves para distinguir as bidirecionais\n",
        "for (u, v, key) in G.edges(keys=True):\n",
        "    style = 'arc3, rad=0.1' if key == 0 else 'arc3, rad=-0.1'\n",
        "    nx.draw_networkx_edges(G, pos, edgelist=[(u, v)], connectionstyle=style)\n",
        "\n",
        "# Adicionando rótulos de aresta no início de cada aresta\n",
        "edge_labels = {(u, v): d['weight'] for u, v, d in G.edges(data=True)}\n",
        "for (u, v), weight in edge_labels.items():\n",
        "    # Define o deslocamento para mover os rótulos para perto do nó de origem\n",
        "    edge_pos = pos[u]\n",
        "    text_pos = (edge_pos[0] * 0.9 + pos[v][0] * 0.1, edge_pos[1] * 0.9 + pos[v][1] * 0.1)\n",
        "\n",
        "    # Desenha os rótulos das arestas com fundo branco para melhor visibilidade\n",
        "    plt.text(text_pos[0], text_pos[1], s=weight, bbox=dict(facecolor='white', edgecolor='none', boxstyle='round,pad=0.1'))\n",
        "\n",
        "# Mostrando o grafo\n",
        "plt.axis('off')  # Desliga os eixos\n",
        "plt.show()\n",
        "\n",
        "# Encontrando caminhos\n",
        "print(\"Caminhos de 'a' para 'b':\")\n",
        "for path in nx.all_simple_paths(G, source='a', target='b'):\n",
        "    print(path)\n",
        "\n",
        "# Verificando a existência de ciclos\n",
        "has_cycles = nx.is_directed_acyclic_graph(G)\n",
        "print(f\"O grafo G3 é cíclico? {'Não' if has_cycles else 'Sim'}\")\n",
        "\n",
        "# Identificando um ciclo (se houver)\n",
        "try:\n",
        "    cycle = nx.find_cycle(G)\n",
        "    print(\"Um ciclo em G3:\", cycle)\n",
        "except nx.NetworkXNoCycle:\n",
        "    print(\"G3 é acíclico.\")\n"
      ]
    },
    {
      "cell_type": "markdown",
      "id": "9ed2a97c",
      "metadata": {
        "id": "9ed2a97c"
      },
      "source": [
        "### Slide 53 - Grafo Rotulado"
      ]
    },
    {
      "cell_type": "markdown",
      "id": "42219c7c",
      "metadata": {
        "id": "42219c7c"
      },
      "source": [
        "Um **grafo rotulado** é aquele em que seus vértices ou arcos têm rótulos associados que representam informações adicionais.\n",
        "\n",
        "- **Rotulação de Vértices**: É uma função $f_V$ que associa cada vértice do conjunto $V$ a um rótulo do conjunto $R_V$.\n",
        "- **Rotulação de Arcos**: É uma função $f_A$ que associa cada arco do conjunto $A$ a um rótulo do conjunto $R_A$.\n",
        "\n",
        "_**Exemplo de Grafo Rotulado $G_4$**_:\n",
        "\n",
        "Considere o grafo $G_4$:\n",
        "\n",
        "- **Vértices**: $V_4 = \\{0, 1, 2\\}$\n",
        "- **Arcos**: $A_4 = \\{(0, 1), (1, 2), (0, 2)\\}$\n",
        "\n",
        "Uma possível rotulação para $G_4$ é:\n",
        "\n",
        "- **Rotulação de Vértices**:\n",
        "  $$\n",
        "  f_V = \\{(0, \\phi), (1, \\gamma), (2, \\psi)\\} \\quad \\text{com} \\quad R_V = \\{\\phi, \\gamma, \\psi\\}\n",
        "  $$\n",
        "- **Rotulação de Arcos**:\n",
        "  $$\n",
        "  f_A = \\{((0, 1), \\Phi), ((1, 2), \\Gamma), ((0, 2), \\Psi)\\} \\quad \\text{com} \\quad R_A = \\{\\Phi, \\Gamma, \\Psi\\}\n",
        "  $$\n"
      ]
    },
    {
      "cell_type": "code",
      "execution_count": 4,
      "id": "df24193f",
      "metadata": {
        "colab": {
          "base_uri": "https://localhost:8080/",
          "height": 516
        },
        "id": "df24193f",
        "outputId": "4fe15feb-4374-49a1-a024-672b37703286"
      },
      "outputs": [
        {
          "output_type": "display_data",
          "data": {
            "text/plain": [
              "<Figure size 640x480 with 1 Axes>"
            ],
            "image/png": "[encoded data removed]"
          },
          "metadata": {}
        }
      ],
      "source": [
        "import networkx as nx\n",
        "import matplotlib.pyplot as plt\n",
        "\n",
        "# Criando um grafo direcionado\n",
        "G4 = nx.DiGraph()\n",
        "\n",
        "# Adicionando vértices e arestas do grafo G4\n",
        "G4.add_edge('0', '1', label='Φ')\n",
        "G4.add_edge('1', '2', label='Γ')\n",
        "G4.add_edge('0', '2', label='Ψ')\n",
        "\n",
        "# Rotulação dos vértices\n",
        "vertex_labels = {'0': 'φ', '1': 'γ', '2': 'ψ'}\n",
        "for node, label in vertex_labels.items():\n",
        "    G4.nodes[node]['label'] = label\n",
        "\n",
        "# Desenhando o grafo\n",
        "pos = nx.circular_layout(G4)  # Posicionamento circular para os nós\n",
        "nx.draw(G4, pos, with_labels=False, node_size=2000, node_color='white', edgecolors='black')\n",
        "\n",
        "# Desenhando os rótulos dos vértices\n",
        "for node, (x, y) in pos.items():\n",
        "    plt.text(x, y, f'{node}/{G4.nodes[node][\"label\"]}', fontsize=12, ha='center', va='center')\n",
        "\n",
        "# Desenhando os rótulos das arestas\n",
        "edge_labels = nx.get_edge_attributes(G4, 'label')\n",
        "nx.draw_networkx_edge_labels(G4, pos, edge_labels=edge_labels, font_color='black')\n",
        "\n",
        "# Mostrando o grafo\n",
        "plt.axis('off')  # Desliga os eixos\n",
        "plt.show()\n"
      ]
    },
    {
      "cell_type": "markdown",
      "id": "06cc8914",
      "metadata": {
        "id": "06cc8914"
      },
      "source": [
        "### Slides 54 a 59 - Árvores"
      ]
    },
    {
      "cell_type": "markdown",
      "id": "324cebff",
      "metadata": {
        "id": "324cebff"
      },
      "source": [
        "_**Definição de Árvore**_\n",
        "\n",
        "- Uma **árvore** é um grafo acíclico (sem ciclos) e orientado, onde:\n",
        "  - Existe exatamente um vértice chamado **raiz** com $N_E=0$ (sem arestas de entrada).\n",
        "  - Todos os outros vértices têm exatamente uma aresta de entrada ($N_E=1$).\n",
        "  - Existe um único caminho de qualquer vértice para a raiz.\n",
        "\n",
        "_**Conceitos em Árvores**_\n",
        "\n",
        "- **Ancestral e Descendente**:\n",
        "  - Se $a$ é ancestral de $b$, então é possível percorrer um caminho da raiz até $b$ passando por $a$.\n",
        "  - Se $b$ é descendente de $a$, então $a$ vem antes de $b$ no caminho da raiz até $b$.\n",
        "\n",
        "- **Pai e Filho**:\n",
        "  - Se não houver vértices intermediários entre $a$ e $b$, e se $a$ é ancestral direto de $b$, então $a$ é o pai de $b$ e $b$ é o filho de $a$.\n",
        "\n",
        "- **Folhas e Nós Internos**:\n",
        "  - Vértices sem filhos são chamados de folhas.\n",
        "  - Vértices com pelo menos um filho são chamados de nós internos.\n",
        "\n",
        "- **Profundidade**:\n",
        "  - A profundidade de um nó é o número de arestas no caminho da raiz até esse nó.\n",
        "\n",
        "_**Exemplo**_\n",
        "\n",
        "Considerando uma árvore com vértices nomeados como `Raiz`, `V1`, `V11`, `V00`, `V01`, `V0`, `V10`:\n",
        "- `V1` é o pai de `V11`.\n",
        "- `Raiz` é ancestral de todos os nós.\n",
        "- `V00` e `V11` são folhas.\n",
        "- `V0` e `V1` são nós internos.\n",
        "- `V01` e `V10` têm profundidade 2.\n"
      ]
    },
    {
      "cell_type": "code",
      "source": [
        "!pip install pygraphviz"
      ],
      "metadata": {
        "collapsed": true,
        "colab": {
          "base_uri": "https://localhost:8080/"
        },
        "id": "VuliwgOrBJ6e",
        "outputId": "e2f56bb9-e896-4e8c-da13-a136a5e22b03"
      },
      "id": "VuliwgOrBJ6e",
      "execution_count": 5,
      "outputs": [
        {
          "output_type": "stream",
          "name": "stdout",
          "text": [
            "Collecting pygraphviz\n",
            "  Downloading pygraphviz-1.14.tar.gz (106 kB)\n",
            "\u001b[?25l     \u001b[90m━━━━━━━━━━━━━━━━━━━━━━━━━━━━━━━━━━━━━━━━\u001b[0m \u001b[32m0.0/106.0 kB\u001b[0m \u001b[31m?\u001b[0m eta \u001b[36m-:--:--\u001b[0m\r\u001b[2K     \u001b[91m━━━━━━━━━━━━━━━━━━━━━━━━━━━━━━━━━━━━━\u001b[0m\u001b[91m╸\u001b[0m\u001b[90m━\u001b[0m \u001b[32m102.4/106.0 kB\u001b[0m \u001b[31m3.2 MB/s\u001b[0m eta \u001b[36m0:00:01\u001b[0m\r\u001b[2K     \u001b[90m━━━━━━━━━━━━━━━━━━━━━━━━━━━━━━━━━━━━━━━\u001b[0m \u001b[32m106.0/106.0 kB\u001b[0m \u001b[31m2.4 MB/s\u001b[0m eta \u001b[36m0:00:00\u001b[0m\n",
            "\u001b[?25h  Installing build dependencies ... \u001b[?25l\u001b[?25hdone\n",
            "  Getting requirements to build wheel ... \u001b[?25l\u001b[?25hdone\n",
            "  Preparing metadata (pyproject.toml) ... \u001b[?25l\u001b[?25hdone\n",
            "Building wheels for collected packages: pygraphviz\n",
            "  \u001b[1;31merror\u001b[0m: \u001b[1msubprocess-exited-with-error\u001b[0m\n",
            "  \n",
            "  \u001b[31m×\u001b[0m \u001b[32mBuilding wheel for pygraphviz \u001b[0m\u001b[1;32m(\u001b[0m\u001b[32mpyproject.toml\u001b[0m\u001b[1;32m)\u001b[0m did not run successfully.\n",
            "  \u001b[31m│\u001b[0m exit code: \u001b[1;36m1\u001b[0m\n",
            "  \u001b[31m╰─>\u001b[0m See above for output.\n",
            "  \n",
            "  \u001b[1;35mnote\u001b[0m: This error originates from a subprocess, and is likely not a problem with pip.\n",
            "  Building wheel for pygraphviz (pyproject.toml) ... \u001b[?25l\u001b[?25herror\n",
            "\u001b[31m  ERROR: Failed building wheel for pygraphviz\u001b[0m\u001b[31m\n",
            "\u001b[0mFailed to build pygraphviz\n",
            "\u001b[31mERROR: ERROR: Failed to build installable wheels for some pyproject.toml based projects (pygraphviz)\u001b[0m\u001b[31m\n",
            "\u001b[0m"
          ]
        }
      ]
    },
    {
      "cell_type": "code",
      "execution_count": 7,
      "id": "f7c7eeaf",
      "metadata": {
        "colab": {
          "base_uri": "https://localhost:8080/",
          "height": 581
        },
        "collapsed": true,
        "id": "f7c7eeaf",
        "outputId": "5a377e7e-4f60-4615-981c-7d7c5a3d917d"
      },
      "outputs": [
        {
          "output_type": "error",
          "ename": "ImportError",
          "evalue": "requires pygraphviz http://pygraphviz.github.io/",
          "traceback": [
            "\u001b[0;31m---------------------------------------------------------------------------\u001b[0m",
            "\u001b[0;31mModuleNotFoundError\u001b[0m                       Traceback (most recent call last)",
            "\u001b[0;32m/usr/local/lib/python3.11/dist-packages/networkx/drawing/nx_agraph.py\u001b[0m in \u001b[0;36mpygraphviz_layout\u001b[0;34m(G, prog, root, args)\u001b[0m\n\u001b[1;32m    299\u001b[0m     \u001b[0;32mtry\u001b[0m\u001b[0;34m:\u001b[0m\u001b[0;34m\u001b[0m\u001b[0;34m\u001b[0m\u001b[0m\n\u001b[0;32m--> 300\u001b[0;31m         \u001b[0;32mimport\u001b[0m \u001b[0mpygraphviz\u001b[0m\u001b[0;34m\u001b[0m\u001b[0;34m\u001b[0m\u001b[0m\n\u001b[0m\u001b[1;32m    301\u001b[0m     \u001b[0;32mexcept\u001b[0m \u001b[0mImportError\u001b[0m \u001b[0;32mas\u001b[0m \u001b[0merr\u001b[0m\u001b[0;34m:\u001b[0m\u001b[0;34m\u001b[0m\u001b[0;34m\u001b[0m\u001b[0m\n",
            "\u001b[0;31mModuleNotFoundError\u001b[0m: No module named 'pygraphviz'",
            "\nThe above exception was the direct cause of the following exception:\n",
            "\u001b[0;31mImportError\u001b[0m                               Traceback (most recent call last)",
            "\u001b[0;32m<ipython-input-7-2339099177>\u001b[0m in \u001b[0;36m<cell line: 0>\u001b[0;34m()\u001b[0m\n\u001b[1;32m     16\u001b[0m \u001b[0;34m\u001b[0m\u001b[0m\n\u001b[1;32m     17\u001b[0m \u001b[0;31m# Desenhando a árvore\u001b[0m\u001b[0;34m\u001b[0m\u001b[0;34m\u001b[0m\u001b[0m\n\u001b[0;32m---> 18\u001b[0;31m \u001b[0mpos\u001b[0m \u001b[0;34m=\u001b[0m \u001b[0mnx\u001b[0m\u001b[0;34m.\u001b[0m\u001b[0mnx_agraph\u001b[0m\u001b[0;34m.\u001b[0m\u001b[0mgraphviz_layout\u001b[0m\u001b[0;34m(\u001b[0m\u001b[0mT\u001b[0m\u001b[0;34m,\u001b[0m \u001b[0mprog\u001b[0m\u001b[0;34m=\u001b[0m\u001b[0;34m'dot'\u001b[0m\u001b[0;34m)\u001b[0m  \u001b[0;31m# Usando o layout do Graphviz\u001b[0m\u001b[0;34m\u001b[0m\u001b[0;34m\u001b[0m\u001b[0m\n\u001b[0m\u001b[1;32m     19\u001b[0m \u001b[0mnx\u001b[0m\u001b[0;34m.\u001b[0m\u001b[0mdraw\u001b[0m\u001b[0;34m(\u001b[0m\u001b[0mT\u001b[0m\u001b[0;34m,\u001b[0m \u001b[0mpos\u001b[0m\u001b[0;34m,\u001b[0m \u001b[0mwith_labels\u001b[0m\u001b[0;34m=\u001b[0m\u001b[0;32mTrue\u001b[0m\u001b[0;34m,\u001b[0m \u001b[0mnode_size\u001b[0m\u001b[0;34m=\u001b[0m\u001b[0;36m2000\u001b[0m\u001b[0;34m,\u001b[0m \u001b[0mnode_color\u001b[0m\u001b[0;34m=\u001b[0m\u001b[0;34m'lightblue'\u001b[0m\u001b[0;34m,\u001b[0m \u001b[0marrows\u001b[0m\u001b[0;34m=\u001b[0m\u001b[0;32mFalse\u001b[0m\u001b[0;34m)\u001b[0m\u001b[0;34m\u001b[0m\u001b[0;34m\u001b[0m\u001b[0m\n\u001b[1;32m     20\u001b[0m \u001b[0;34m\u001b[0m\u001b[0m\n",
            "\u001b[0;32m/usr/local/lib/python3.11/dist-packages/networkx/drawing/nx_agraph.py\u001b[0m in \u001b[0;36mgraphviz_layout\u001b[0;34m(G, prog, root, args)\u001b[0m\n\u001b[1;32m    254\u001b[0m     \u001b[0msee\u001b[0m \u001b[0mhttps\u001b[0m\u001b[0;34m:\u001b[0m\u001b[0;34m//\u001b[0m\u001b[0mgitlab\u001b[0m\u001b[0;34m.\u001b[0m\u001b[0mcom\u001b[0m\u001b[0;34m/\u001b[0m\u001b[0mgraphviz\u001b[0m\u001b[0;34m/\u001b[0m\u001b[0mgraphviz\u001b[0m\u001b[0;34m/\u001b[0m\u001b[0;34m-\u001b[0m\u001b[0;34m/\u001b[0m\u001b[0missues\u001b[0m\u001b[0;34m/\u001b[0m\u001b[0;36m1767\u001b[0m \u001b[0;32mfor\u001b[0m \u001b[0mmore\u001b[0m \u001b[0minfo\u001b[0m\u001b[0;34m.\u001b[0m\u001b[0;34m\u001b[0m\u001b[0;34m\u001b[0m\u001b[0m\n\u001b[1;32m    255\u001b[0m     \"\"\"\n\u001b[0;32m--> 256\u001b[0;31m     \u001b[0;32mreturn\u001b[0m \u001b[0mpygraphviz_layout\u001b[0m\u001b[0;34m(\u001b[0m\u001b[0mG\u001b[0m\u001b[0;34m,\u001b[0m \u001b[0mprog\u001b[0m\u001b[0;34m=\u001b[0m\u001b[0mprog\u001b[0m\u001b[0;34m,\u001b[0m \u001b[0mroot\u001b[0m\u001b[0;34m=\u001b[0m\u001b[0mroot\u001b[0m\u001b[0;34m,\u001b[0m \u001b[0margs\u001b[0m\u001b[0;34m=\u001b[0m\u001b[0margs\u001b[0m\u001b[0;34m)\u001b[0m\u001b[0;34m\u001b[0m\u001b[0;34m\u001b[0m\u001b[0m\n\u001b[0m\u001b[1;32m    257\u001b[0m \u001b[0;34m\u001b[0m\u001b[0m\n\u001b[1;32m    258\u001b[0m \u001b[0;34m\u001b[0m\u001b[0m\n",
            "\u001b[0;32m/usr/local/lib/python3.11/dist-packages/networkx/drawing/nx_agraph.py\u001b[0m in \u001b[0;36mpygraphviz_layout\u001b[0;34m(G, prog, root, args)\u001b[0m\n\u001b[1;32m    300\u001b[0m         \u001b[0;32mimport\u001b[0m \u001b[0mpygraphviz\u001b[0m\u001b[0;34m\u001b[0m\u001b[0;34m\u001b[0m\u001b[0m\n\u001b[1;32m    301\u001b[0m     \u001b[0;32mexcept\u001b[0m \u001b[0mImportError\u001b[0m \u001b[0;32mas\u001b[0m \u001b[0merr\u001b[0m\u001b[0;34m:\u001b[0m\u001b[0;34m\u001b[0m\u001b[0;34m\u001b[0m\u001b[0m\n\u001b[0;32m--> 302\u001b[0;31m         \u001b[0;32mraise\u001b[0m \u001b[0mImportError\u001b[0m\u001b[0;34m(\u001b[0m\u001b[0;34m\"requires pygraphviz http://pygraphviz.github.io/\"\u001b[0m\u001b[0;34m)\u001b[0m \u001b[0;32mfrom\u001b[0m \u001b[0merr\u001b[0m\u001b[0;34m\u001b[0m\u001b[0;34m\u001b[0m\u001b[0m\n\u001b[0m\u001b[1;32m    303\u001b[0m     \u001b[0;32mif\u001b[0m \u001b[0mroot\u001b[0m \u001b[0;32mis\u001b[0m \u001b[0;32mnot\u001b[0m \u001b[0;32mNone\u001b[0m\u001b[0;34m:\u001b[0m\u001b[0;34m\u001b[0m\u001b[0;34m\u001b[0m\u001b[0m\n\u001b[1;32m    304\u001b[0m         \u001b[0margs\u001b[0m \u001b[0;34m+=\u001b[0m \u001b[0;34mf\"-Groot={root}\"\u001b[0m\u001b[0;34m\u001b[0m\u001b[0;34m\u001b[0m\u001b[0m\n",
            "\u001b[0;31mImportError\u001b[0m: requires pygraphviz http://pygraphviz.github.io/",
            "",
            "\u001b[0;31m---------------------------------------------------------------------------\u001b[0;32m\nNOTE: If your import is failing due to a missing package, you can\nmanually install dependencies using either !pip or !apt.\n\nTo view examples of installing some common dependencies, click the\n\"Open Examples\" button below.\n\u001b[0;31m---------------------------------------------------------------------------\u001b[0m\n"
          ],
          "errorDetails": {
            "actions": [
              {
                "action": "open_url",
                "actionText": "Open Examples",
                "url": "/notebooks/snippets/importing_libraries.ipynb"
              }
            ]
          }
        }
      ],
      "source": [
        "import networkx as nx\n",
        "import matplotlib.pyplot as plt\n",
        "\n",
        "# Criando uma árvore\n",
        "T = nx.DiGraph()\n",
        "\n",
        "# Adicionando vértices e arestas\n",
        "T.add_edges_from([\n",
        "    ('Raiz', 'V0'),\n",
        "    ('Raiz', 'V1'),\n",
        "    ('V0', 'V00'),\n",
        "    ('V0', 'V01'),\n",
        "    ('V1', 'V10'),\n",
        "    ('V1', 'V11'),\n",
        "])\n",
        "\n",
        "# Desenhando a árvore\n",
        "pos = nx.nx_agraph.graphviz_layout(T, prog='dot')  # Usando o layout do Graphviz\n",
        "nx.draw(T, pos, with_labels=True, node_size=2000, node_color='lightblue', arrows=False)\n",
        "\n",
        "# Mostrando a árvore\n",
        "plt.title(\"Árvore\")\n",
        "plt.show()\n"
      ]
    },
    {
      "cell_type": "code",
      "source": [
        "# Supondo que G seja o grafo definido anteriormente\n",
        "\n",
        "# Função para encontrar a raiz, folhas, nós de entrada e saída\n",
        "# FACA AQUI A IMPLEMENTACAO DA FUNCAO SEM USAR LIST COMPREHENSION, OU SEJA, USE LACOS FOR\n",
        "# CRIE SEUS PROPRIOS NOMES DAS VARIAVEIS\n",
        "def graph_properties(G):\n",
        "    # Identificar se o grafo é acíclico\n",
        "    is_acyclic = nx.is_directed_acyclic_graph(G)\n",
        "    print(f\"O grafo G é acíclico? {is_acyclic}\")\n",
        "\n",
        "    # Identificar a raiz (vértices com grau de entrada igual a zero)\n",
        "    root = []\n",
        "    for node, degree in G.in_degree():\n",
        "        if degree == 0:\n",
        "            root.append(node)\n",
        "    print(f\"Raiz do grafo: {root}\")\n",
        "\n",
        "    # Identificar as folhas (vértices com grau de saída igual a zero)\n",
        "    leaves = []\n",
        "    for node, degree in G.out_degree():\n",
        "        if degree == 0:\n",
        "            leaves.append(node)\n",
        "    print(f\"Folhas do grafo: {leaves}\")\n",
        "\n",
        "    # Calcular os graus de entrada e saída\n",
        "    in_degrees = {}\n",
        "    out_degrees = {}\n",
        "    for node, degree in G.in_degree():\n",
        "        in_degrees[node] = degree\n",
        "    for node, degree in G.out_degree():\n",
        "        out_degrees[node] = degree\n",
        "    print(f\"Graus de entrada: {in_degrees}\")\n",
        "    print(f\"Graus de saída: {out_degrees}\")\n",
        "\n",
        "    return is_acyclic, root, leaves, in_degrees, out_degrees\n",
        "\n",
        "properties = graph_properties(T)"
      ],
      "metadata": {
        "colab": {
          "base_uri": "https://localhost:8080/"
        },
        "id": "E6VZjqtmBxRa",
        "outputId": "a10a6b14-2a51-4ec5-d0c8-64a55fd7e294"
      },
      "id": "E6VZjqtmBxRa",
      "execution_count": 8,
      "outputs": [
        {
          "output_type": "stream",
          "name": "stdout",
          "text": [
            "O grafo G é acíclico? True\n",
            "Raiz do grafo: ['Raiz']\n",
            "Folhas do grafo: ['V00', 'V01', 'V10', 'V11']\n",
            "Graus de entrada: {'Raiz': 0, 'V0': 1, 'V1': 1, 'V00': 1, 'V01': 1, 'V10': 1, 'V11': 1}\n",
            "Graus de saída: {'Raiz': 2, 'V0': 2, 'V1': 2, 'V00': 0, 'V01': 0, 'V10': 0, 'V11': 0}\n"
          ]
        }
      ]
    },
    {
      "cell_type": "markdown",
      "id": "0d3729d0",
      "metadata": {
        "id": "0d3729d0"
      },
      "source": [
        "- _**Identificando nós folha**_:  Para identificar os nós folha em um grafo usando a biblioteca NetworkX em Python, utilizamos a seguinte linha de código:\n",
        "\n",
        "```python\n",
        "leaves = [node for node, deg in G.out_degree() if deg == 0]\n",
        "```\n",
        "A linha de código em questão cria uma lista dos nós folha de um grafo `G`. Os nós folha são aqueles que não têm arestas saindo deles. Vamos decompô-la:\n",
        "\n",
        "- `G.out_degree()`: Este método retorna um conjunto de pares (nó, grau de saída) para todos os nós no grafo `G`. O \"grau de saída\" é o número de arestas que saem de um nó.\n",
        "\n",
        "- `[node for node, deg in G.out_degree() if deg == 0]`: Esta é uma compreensão de lista, uma forma concisa de construir uma lista em Python. O que ela faz é:\n",
        "  - Iterar sobre cada par `(nó, grau de saída)` gerado por `G.out_degree()`.\n",
        "  - Checar se o grau de saída (`deg`) é `0`, o que significa que não há arestas saindo desse nó.\n",
        "  - Se o grau de saída for `0`, incluir o `nó` na lista `leaves`.\n",
        "\n",
        "Portanto, `leaves` será uma lista contendo todos os nós do grafo `G` que são nós folha.  "
      ]
    },
    {
      "cell_type": "markdown",
      "id": "323cab2b",
      "metadata": {
        "id": "323cab2b"
      },
      "source": [
        "  \n",
        "- _**Identificando a raiz**_:  Para identificar a raiz em um grafo usando a biblioteca NetworkX em Python, utilizamos a seguinte linha de código:\n",
        "\n",
        "```python\n",
        "root = [node for node, deg in G.in_degree() if deg == 0]\n",
        "```\n",
        "A linha de código em questão cria uma lista dos nós raiz de um grafo `G`. Os nós folha são aqueles que não têm arestas entrando neles. Vamos decompô-la:\n",
        "\n",
        "- `G.in_degree()`: Este método retorna um conjunto de pares (nó, grau de entrada) para todos os nós no grafo `G`. O \"grau de entrada\" é o número de arestas que entrasm em cada nó.\n",
        "\n",
        "- `[node for node, deg in G.in_degree() if deg == 0]`: Esta é uma compreensão de lista, uma forma concisa de construir uma lista em Python. O que ela faz é:\n",
        "  - Iterar sobre cada par `(nó, grau de entrada)` gerado por `G.in_degree()`.\n",
        "  - Checar se o grau de entrada (`deg`) é `0`, o que significa que não há arestas entrandonesse nó.\n",
        "  - Se o grau de entrada for `0`, incluir o `nó` na lista `root`.\n",
        "\n",
        "Portanto, `root` será uma lista contendo todos os nós do grafo `G` que são nós raiz."
      ]
    },
    {
      "cell_type": "markdown",
      "id": "00849d10",
      "metadata": {
        "id": "00849d10"
      },
      "source": [
        "- _**Calculando Graus de Entrada e Saída em um Grafo**_:  Para calcular os graus de entrada e saída de cada nó em um grafo utilizando a biblioteca NetworkX, usamos as seguintes linhas de código:\n",
        "\n",
        "```python\n",
        "in_degrees = {node: deg for node, deg in G.in_degree()}\n",
        "out_degrees = {node: deg for node, deg in G.out_degree()}\n",
        "```\n",
        "`G.in_degree()`: Este método retorna um iterador sobre os pares (nó, grau de entrada) para todos os nós no grafo `G`. O grau de entrada é o número total de arestas direcionadas para um nó.\n",
        "\n",
        "`G.out_degree()`: Este método retorna um iterador sobre os pares (nó, grau de saída) para todos os nós no grafo `G`. O grau de saída é o número total de arestas que saem de um nó.\n",
        "\n",
        "`{node: deg for node, deg in G.in_degree()}`: Esta é uma dictionary comprehension que cria um dicionário `in_degrees`, onde cada chave é um nó do grafo, e seu valor é o grau de entrada desse nó.\n",
        "\n",
        "`{node: deg for node, deg in G.out_degree()}`: De forma semelhante, cria um dicionário `out_degrees`, onde cada chave é um nó do grafo, e seu valor é o grau de saída desse nó."
      ]
    },
    {
      "cell_type": "code",
      "execution_count": null,
      "id": "5752c134",
      "metadata": {
        "id": "5752c134"
      },
      "outputs": [],
      "source": []
    },
    {
      "cell_type": "markdown",
      "id": "f371752e",
      "metadata": {
        "id": "f371752e"
      },
      "source": [
        "# 1. Algoritmos de Busca sem informação"
      ]
    },
    {
      "cell_type": "markdown",
      "id": "5b671413",
      "metadata": {
        "id": "5b671413"
      },
      "source": [
        "## 1.1 Busca em Largura (BFS)"
      ]
    },
    {
      "cell_type": "markdown",
      "id": "913376c7",
      "metadata": {
        "id": "913376c7"
      },
      "source": [
        "### 1.1.1 Introdução"
      ]
    },
    {
      "cell_type": "markdown",
      "id": "8c8681ff",
      "metadata": {
        "id": "8c8681ff"
      },
      "source": [
        "A **Busca em Largura (BFS - *Breadth-First Search*)** é um dos algoritmos clássicos para percorrer ou buscar em grafos (ou árvores). Ela explora o grafo nível a nível, partindo de um nó inicial, visitando todos os seus vizinhos, depois todos os vizinhos destes vizinhos, e assim por diante.\n",
        "  \n",
        "**A) Principais características**\n",
        "- A BFS caminha \"amplamente\" pelo grafo, explorando completamente todos os nós a uma certa distância antes de seguir para a próxima distância.\n",
        "- Em termos de árvores, a BFS visita os nós nível por nível.\n",
        "- É frequentemente utilizada para determinar o menor caminho em número de arestas de um nó inicial a outros nós em um grafo não ponderado.\n",
        "\n",
        "\n",
        "**B) Motivação**  \n",
        "Por que utilizar BFS?  \n",
        "- Encontrar o caminho mais curto (em termos de quantidade de arestas) em um grafo não ponderado.\n",
        "- Verificar se um grafo é bipartido.\n",
        "- Explorar todos os nós a partir de um ponto inicial.\n",
        "- Serve de base para outros algoritmos mais complexos, como o de fluxo máximo (quando combinada com outras técnicas, como a busca em rede de fluxo - Edmond-Karp).\n",
        "\n",
        "**C) Definição do Problema**  \n",
        "Dado um grafo G = (V, E), onde:\n",
        "- V é o conjunto de vértices (nós),\n",
        "- E é o conjunto de arestas.\n",
        "\n",
        "E um vértice inicial `s` ∈ V. Queremos visitar todos os nós alcançáveis a partir de `s` expandindo nível a nível.  \n",
        "\n",
        "---  \n",
        "\n",
        "**D) Como funciona:**\n",
        "1. Inicialmente, coloque o nó inicial `s` em uma fila.\n",
        "2. Enquanto a fila não estiver vazia:\n",
        "   - Remova o primeiro nó da fila, chame-o de `u`.\n",
        "   - Visite `u` (se ainda não foi visitado).\n",
        "   - Enfileire todos os vizinhos de `u` que ainda não tenham sido visitados."
      ]
    },
    {
      "cell_type": "markdown",
      "id": "47588ac0",
      "metadata": {
        "id": "47588ac0"
      },
      "source": [
        "### 1.1.2 Exemplo Intuitivo"
      ]
    },
    {
      "cell_type": "markdown",
      "id": "2d2dbd3f",
      "metadata": {
        "id": "2d2dbd3f"
      },
      "source": [
        "Considere o seguinte grafo não dirigido:\n",
        "\n",
        "\n",
        "- Vértices: {A, B, C, D, E}  \n",
        "- Arestas: {(A,B), (A,C), (B,D), (C,E)}\n",
        "\n",
        "Começando de A:\n",
        "- Passo 1: Fila = [A], Visitados = {}\n",
        "- Desenfileirar A: Visitados = {A}\n",
        "- Enfileirar vizinhos de A: B e C\n",
        "- Fila = [B, C]\n",
        "\n",
        "- Passo 2: Desenfileirar B: Visitados = {A, B}\n",
        "- Vizinhos de B: A (já visitado), D (não visitado)\n",
        "- Enfileira D: Fila = [C, D]\n",
        "\n",
        "- Passo 3: Desenfileirar C: Visitados = {A, B, C}\n",
        "- Vizinhos de C: A (já visitado), E (não visitado)\n",
        "- Enfileira E: Fila = [D, E]\n",
        "\n",
        "- Passo 4: Desenfileirar D: Visitados = {A, B, C, D}\n",
        "- Vizinhos de D: B (visitado)\n",
        "- Nada novo a enfileirar: Fila = [E]\n",
        "\n",
        "- Passo 5: Desenfileirar E: Visitados = {A, B, C, D, E}\n",
        "- Vizinhos de E: C (visitado)\n",
        "- Nada novo a enfileirar: Fila = []\n",
        "\n",
        "A busca terminou. Ordem de visita: A → B → C → D → E.\n",
        "\n",
        "---\n",
        "\n",
        "Representação do Grafo  \n",
        "\n",
        "---\n",
        "A BFS pode ser aplicada em qualquer representação de grafo, mas as mais comuns são:\n",
        "\n",
        "1. **Lista de Adjacência:**  \n",
        "   - Cada nó possui uma lista de nós vizinhos.\n",
        "   - Exemplo:  \n",
        "     ```python\n",
        "     graph = {\n",
        "       'A': ['B', 'C'],\n",
        "       'B': ['A', 'D'],\n",
        "       'C': ['A', 'E'],\n",
        "       'D': ['B'],\n",
        "       'E': ['C']\n",
        "     }\n",
        "     ```\n",
        "\n",
        "2. **Matriz de Adjacência:**  \n",
        "   - Uma matriz NxN onde `mat[i][j]` indica se há uma aresta entre o nó i e o nó j.\n",
        "   - Menos eficiente em grafos esparsos.\n",
        "\n",
        "Para BFS, a lista de adjacência costuma ser mais eficiente.\n",
        "\n",
        "---\n",
        "\n",
        "**Complexidade do Algoritmo**\n",
        "\n",
        "Suponha que o grafo tenha:\n",
        "- |V| = n (nós)\n",
        "- |E| = m (arestas)\n",
        "\n",
        "A BFS visita cada vértice uma única vez e cada aresta no máximo duas vezes (em grafos não-dirigidos, uma vez para cada ponta; em grafos dirigidos, no máximo uma vez na direção indicada).\n",
        "\n",
        "Portanto, o tempo de execução da BFS é **O(n + m)**.\n",
        "\n",
        "Isto é ótimo, pois significa que a BFS é linear no tamanho do grafo.\n",
        "\n",
        "Em termos de memória, a BFS necessita:\n",
        "- Uma fila capaz de manter, no pior caso, O(n) elementos.\n",
        "- Uma lista ou array de visitados de tamanho O(n).\n",
        "\n",
        "Logo, a complexidade espacial também é O(n + m), dominada pela representação do grafo (lista de adjacência) e pela estrutura de fila e de marcação de visitados.\n",
        "\n",
        "---\n",
        "\n",
        "**Pseudocódigo**\n",
        "\n"
      ]
    },
    {
      "cell_type": "markdown",
      "id": "6b83306b",
      "metadata": {
        "id": "6b83306b"
      },
      "source": [
        "# 2. Algoritmos de Busca com Informação"
      ]
    },
    {
      "cell_type": "markdown",
      "id": "73b5e25a",
      "metadata": {
        "id": "73b5e25a"
      },
      "source": [
        "A **busca com informação** utiliza **heurísticas** (informações adicionais) para guiar a exploração do espaço de busca. A heurística ajuda a escolher os caminhos mais **promissores** primeiro, evitando explorar caminhos não relevantes."
      ]
    },
    {
      "cell_type": "markdown",
      "id": "8117c6d8",
      "metadata": {
        "id": "8117c6d8"
      },
      "source": [
        "## 2.1 Algoritmos Gulosos"
      ]
    },
    {
      "cell_type": "markdown",
      "id": "8c795d35",
      "metadata": {
        "id": "8c795d35"
      },
      "source": [
        "1. Escolha Local Ótima\n",
        "2. Não há Revisão de Decisões"
      ]
    },
    {
      "cell_type": "markdown",
      "id": "5f611041",
      "metadata": {
        "id": "5f611041"
      },
      "source": [
        "### 2.1.1 Mochila Fracionária"
      ]
    },
    {
      "cell_type": "markdown",
      "id": "12d4f08e",
      "metadata": {
        "id": "12d4f08e"
      },
      "source": [
        "---\n",
        "---\n",
        "**O algoritmo da mochila fracionária demonstra o uso do paradigma guloso escolhendo itens pela melhor razão valor/peso.**\n",
        "\n",
        "---\n",
        "---\n",
        "**Descrição**: Dado um conjunto de itens, cada um com valor e peso, e uma capacidade máxima da mochila, o objetivo é maximizar o valor colocado dentro da mochila. É permitido pegar frações de itens. O algoritmo guloso consiste em:\n",
        "- Calcular o valor/peso de cada item.\n",
        "- Ordenar os itens pela razão valor/peso em ordem decrescente.\n",
        "- Adicionar primeiro o item com melhor razão, depois o segundo, e assim por diante, até esgotar a capacidade da mochila.\n",
        "\n",
        "**Após obter o resultado, mostrar graficamente**:\n",
        "- A fração de cada item inserido na mochila.\n",
        "    - Cada barra representa um item, a altura da barra indica a fração do item escolhido.\n",
        "    - Pequenos rótulos acima das barras indicam a porcentagem do item escolhida.\n",
        "- O valor total da solução.\n",
        "    - O título mostra o valor total obtido"
      ]
    },
    {
      "cell_type": "code",
      "source": [
        "import matplotlib.pyplot as plt\n",
        "\n",
        "\n",
        "def fractional_knapsack(values, weights, capacity):\n",
        "    # Cria uma lista de itens com as informações: (valor, peso, valor_por_peso, índice)\n",
        "    # O índice é usado para rastrear o item original após a ordenação\n",
        "    items = [(values[i] / weights[i], values[i], weights[i], i) for i in range(len(values))]\n",
        "\n",
        "    # Ordena os itens pela razão valor/peso em ordem decrescente\n",
        "    # A estratégia gulosa é pegar primeiro os itens com maior valor/peso\n",
        "    items.sort(key=lambda i: i[0], reverse=True)\n",
        "\n",
        "    # Inicializa o valor total coletado como 0\n",
        "    total_value = 0.0\n",
        "    # Inicializa a capacidade restante da mochila com o valor fornecido\n",
        "    remaining_capacity = capacity\n",
        "    # Inicializa uma lista para armazenar as frações escolhidas de cada item\n",
        "    # Todas começam como 0 (nenhuma fração usada inicialmente)\n",
        "    chosen_fractions = [0]*len(values)  # Para armazenar a fração escolhida de cada item\n",
        "\n",
        "    # Itera sobre a lista ordenada de itens\n",
        "    for ratio, value, peso, index in items:\n",
        "        # Se o peso do item atual é menor ou igual à capacidade restante, pega o item inteiro\n",
        "        if peso <= remaining_capacity:\n",
        "            # Adiciona o valor total do item ao total_value\n",
        "            total_value += value\n",
        "\n",
        "            # Marca que 100% (fração 1) do item foi escolhido\n",
        "            chosen_fractions[index] = 1\n",
        "\n",
        "            # Reduz a capacidade restante da mochila\n",
        "            remaining_capacity -= peso\n",
        "\n",
        "        else:\n",
        "            # Caso o item não caiba inteiro, pega apenas a fração que cabe\n",
        "             # Fração que cabe na mochila\n",
        "            fracao = remaining_capacity / peso\n",
        "\n",
        "            # Adiciona o valor proporcional do item ao total_value\n",
        "            total_value += value * fracao\n",
        "\n",
        "            # Marca a fração escolhida para o item atual\n",
        "            chosen_fractions[index] = fracao\n",
        "            # A capacidade restante agora é 0, a mochila está cheia\n",
        "            break  # mochila cheia\n",
        "\n",
        "    # Retorna o valor total coletado e as frações de cada item escolhidas\n",
        "    return total_value, chosen_fractions\n",
        "\n",
        "# Exemplo de uso\n",
        "values = [60, 100, 120]\n",
        "weights = [10, 20, 30]\n",
        "capacity = 50\n",
        "result_value, fractions = fractional_knapsack(values, weights, capacity)\n",
        "\n",
        "print(\"Valor máximo na mochila fracionária:\", result_value)\n",
        "# RESPOSTA ESPERADA\n",
        "# Valor máximo na mochila fracionária: 240.0\n",
        "print(\"Frações dos itens escolhidas:\", fractions)\n",
        "# RESPOSTA ESPERADA\n",
        "# Frações dos itens escolhidas: [1, 1, 0.6666666666666666]\n",
        "# Plot dos resultados\n"
      ],
      "metadata": {
        "colab": {
          "base_uri": "https://localhost:8080/"
        },
        "id": "ZxbIARiUFlxS",
        "outputId": "b6877980-1702-4e84-ce55-0c10472710c3"
      },
      "id": "ZxbIARiUFlxS",
      "execution_count": 9,
      "outputs": [
        {
          "output_type": "stream",
          "name": "stdout",
          "text": [
            "Valor máximo na mochila fracionária: 240.0\n",
            "Frações dos itens escolhidas: [1, 1, 0.6666666666666666]\n"
          ]
        }
      ]
    },
    {
      "cell_type": "code",
      "source": [
        "plt.figure(figsize=(8,5))\n",
        "indices = range(len(values))\n",
        "plt.bar(indices, fractions, tick_label=[f\"Item {i}\" for i in indices], color='skyblue')\n",
        "plt.xlabel('Itens')\n",
        "plt.ylabel('Fração do item na mochila')\n",
        "plt.title(f'Mochila Fracionária - Valor Total: {result_value:.2f}')\n",
        "plt.ylim(0,1.1)\n",
        "for i, frac in enumerate(fractions):\n",
        "    plt.text(i, frac+0.03, f\"{frac*100:.1f}%\", ha='center')\n",
        "\n",
        "plt.tight_layout()\n",
        "plt.show()"
      ],
      "metadata": {
        "colab": {
          "base_uri": "https://localhost:8080/",
          "height": 507
        },
        "id": "_ot0PeAlEEr4",
        "outputId": "799232e0-5301-48de-e341-6c2e072b238d"
      },
      "id": "_ot0PeAlEEr4",
      "execution_count": 10,
      "outputs": [
        {
          "output_type": "display_data",
          "data": {
            "text/plain": [
              "<Figure size 800x500 with 1 Axes>"
            ],
            "image/png": "[encoded data removed]"
          },
          "metadata": {}
        }
      ]
    },
    {
      "cell_type": "markdown",
      "id": "3bc32d2c",
      "metadata": {
        "id": "3bc32d2c"
      },
      "source": [
        "Agora vamos resolver o problema recursivamente"
      ]
    },
    {
      "cell_type": "code",
      "source": [
        "def fractional_knapsack_recursive(values, weights, capacity, index=0, chosen_fractions=None, items=None):\n",
        "    \"\"\"\n",
        "    Resolve o problema da mochila fracionária recursivamente.\n",
        "    :param values: Lista de valores dos itens.\n",
        "    :param weights: Lista de pesos dos itens.\n",
        "    :param capacity: Capacidade total da mochila.\n",
        "    :param index: Índice do item atual.\n",
        "    :param chosen_fractions: Lista para rastrear as frações escolhidas.\n",
        "    :param items: Lista ordenada de itens (valor, peso, razão, índice).\n",
        "    :return: Valor máximo obtido e as frações escolhidas.\n",
        "    \"\"\"\n",
        "    # Caso base: sem mais itens ou capacidade\n",
        "    if index >= len(items) or capacity <= 0:\n",
        "        return 0, chosen_fractions\n",
        "\n",
        "    # Obtém os dados do item atual\n",
        "    relacao, value, weight, original_index = items[index] = items[index]\n",
        "    # se o peso do item atual for menor ou igual à capacidade restante\n",
        "    if weight <= capacity:\n",
        "        # Pode pegar o item inteiro\n",
        "        # Marca como totalmente escolhido\n",
        "        chosen_fractions[original_index] = 1\n",
        "        # Chamada recursiva para o próximo item com capacidade reduzida\n",
        "        total_value, chosen_fractions = fractional_knapsack_recursive(\n",
        "            values, weights, capacity - weight, index + 1, chosen_fractions, items\n",
        "        )\n",
        "        # Adiciona o valor do item atual\n",
        "        total_value += value\n",
        "    else:\n",
        "        # Pega apenas a fração necessária para completar a capacidade\n",
        "\n",
        "        fracao = capacity / weight\n",
        "\n",
        "        # Marca a fração escolhida\n",
        "        chosen_fractions[original_index] = fracao\n",
        "\n",
        "        # Adiciona o valor proporcional\n",
        "        total_value = value * fracao\n",
        "\n",
        "        return total_value, chosen_fractions  # A mochila está cheia, retorna diretamente\n",
        "    return total_value, chosen_fractions\n",
        "\n",
        "# Função wrapper que realiza a ordenação antes da recursão\n",
        "def fractional_knapsack_r(values, weights, capacity):\n",
        "    \"\"\"\n",
        "    Função de entrada para resolver o problema da mochila fracionária.\n",
        "    Ordena os itens e inicia a recursão.\n",
        "    \"\"\"\n",
        "    # Cria a lista de itens com (valor, peso, valor_por_peso, índice original)\n",
        "    items = [(values[i] / weights[i], values[i], weights[i], i) for i in range(len(values))]\n",
        "\n",
        "    # Ordena os itens pela razão valor/peso (maior primeiro)\n",
        "    items.sort(key=lambda x: x[0], reverse=True)\n",
        "\n",
        "    # Inicializa as frações escolhidas como 0 para todos os itens\n",
        "    chosen_fractions = [0] * len(values)\n",
        "\n",
        "    # Chama a função recursiva com os itens ordenados\n",
        "    return fractional_knapsack_recursive(values, weights, capacity, 0, chosen_fractions, items)\n",
        "\n",
        "# Exemplo de uso\n",
        "values = [60, 100, 120]\n",
        "weights = [10, 20, 30]\n",
        "capacity = 50\n",
        "result_value, result_fractions = fractional_knapsack_r(values, weights, capacity)\n",
        "\n",
        "print(\"Valor máximo na mochila fracionária:\", result_value)\n",
        "# RESPOSTA ESPERADA\n",
        "# Valor máximo na mochila fracionária: 240.0\n",
        "print(\"Frações escolhidas:\", result_fractions)\n",
        "# RESPOSTA ESPERADA\n",
        "# Frações escolhidas: [1, 1, 0.6666666666666666]"
      ],
      "metadata": {
        "id": "IJh3rbzeHdrj",
        "outputId": "4532fc92-2b3c-4dd9-a847-5975438aecff",
        "colab": {
          "base_uri": "https://localhost:8080/"
        }
      },
      "id": "IJh3rbzeHdrj",
      "execution_count": 11,
      "outputs": [
        {
          "output_type": "stream",
          "name": "stdout",
          "text": [
            "Valor máximo na mochila fracionária: 240.0\n",
            "Frações escolhidas: [1, 1, 0.6666666666666666]\n"
          ]
        }
      ]
    },
    {
      "cell_type": "markdown",
      "id": "a8445f55",
      "metadata": {
        "id": "a8445f55"
      },
      "source": [
        "**Wrapper fractional_knapsack_r**\n",
        "- A função principal realiza a ordenação dos itens e inicializa variáveis antes de chamar a função recursiva. Isso garante que:\n",
        "    - Os itens sejam ordenados apenas uma vez.\n",
        "    -  A ordenação não esteja dentro da lógica recursiva.\n",
        "- Passagem de items como Argumento:\n",
        "    - **items** é gerado uma única vez e passado como parâmetro para a recursão.\n",
        "    - Isso evita criar variáveis locais desnecessárias a cada chamada.     \n",
        "    \n",
        "**Chamada recursiva**\n",
        "- Definição do caso base simples:\n",
        "    - Se o índice atual (index) exceder o número de itens ou a capacidade for zero, a recursão para\n",
        "- Chamada Recursiva Clara\n",
        "    - A lógica de pegar o item inteiro ou fração está bem separada.\n",
        "    - Se a mochila estiver cheia ao processar um item, a função retorna imediatamente."
      ]
    },
    {
      "cell_type": "markdown",
      "id": "e30916c8",
      "metadata": {
        "id": "e30916c8"
      },
      "source": [
        "### 2.1.2 Seleção de Atividades"
      ]
    },
    {
      "cell_type": "markdown",
      "id": "65d522e7",
      "metadata": {
        "id": "65d522e7"
      },
      "source": [
        "---\n",
        "---\n",
        "**O algoritmo de seleção de atividades seleciona o máximo de atividades possíveis ordenando-as pelo tempo de término e escolhendo sempre a próxima atividade compatível que termina mais cedo.**\n",
        "\n",
        "---\n",
        "---\n",
        "**Descrição**: dado um conjunto de atividades com tempos de início e término, o objetivo é selecionar o maior número possível de atividades que não se sobreponham. O algoritmo guloso consiste em:\n",
        "- Ordenar as atividades por tempo de término (pré-processamento).\n",
        "- Selecionar a primeira atividade (a que termina mais cedo).\n",
        "- Selecionar a próxima atividade que comece após a última selecionada ter terminado, e assim por diante.\n",
        "\n",
        "**Após obter o resultado, mostrar graficamente**:\n",
        "- A ideia é criar um gráfico estilo \"linha do tempo\" (Gantt chart simplificado).\n",
        "    - Cada atividade é representada por um retângulo mostrando seu intervalo.\n",
        "    - As atividades são representadas como barras ao longo do eixo do tempo\n",
        "    - As atividades selecionadas serão coloridas diferentemente. Atividades selecionadas são sobrepostas em verde, destacando o subconjunto ótimo escolhido pelo algoritmo."
      ]
    },
    {
      "cell_type": "code",
      "execution_count": 12,
      "id": "2c776d5b",
      "metadata": {
        "colab": {
          "base_uri": "https://localhost:8080/"
        },
        "id": "2c776d5b",
        "outputId": "40371e94-bb66-4c6b-e099-8f8baf77d5c8"
      },
      "outputs": [
        {
          "output_type": "stream",
          "name": "stdout",
          "text": [
            "Atividades selecionadas (recursivo): [(1, 2), (3, 4), (5, 7), (8, 9)]\n"
          ]
        }
      ],
      "source": [
        "import matplotlib.pyplot as plt\n",
        "\n",
        "def activity_selection_recursive(starts, finishes, last_finish=-1, index=0):\n",
        "    # Caso base: não há mais atividades para processar\n",
        "    if index >= len(starts):\n",
        "        return []\n",
        "# starts = [1, 3, 0, 5, 8, 5]\n",
        "# finishes = [2, 4, 6, 7, 9, 9]\n",
        "# [(1, 2)] + [(3, 4), (5, 7), (8, 9)] = [(1, 2), (3, 4), (5, 7), (8, 9)]\n",
        "#   # [(3, 4)] + [(5, 7), (8, 9)] = [(3, 4), (5, 7), (8, 9)]\n",
        "#   #   #   - [(5, 7), (8, 9)]\n",
        "#   #   #   # [(5, 7)] + [(8, 9)] = [(5, 7), (8, 9)]\n",
        "#   #   #   #   #   # [(8, 9)] + []\n",
        "#   #   #   #   #   #   #  []\n",
        "#   #   #   #   #   #   #  # []\n",
        "    # Verifica se a atividade atual é compatível\n",
        "    if starts[index] >= last_finish:\n",
        "        # Inclui a atividade atual\n",
        "        include = [(starts[index], finishes[index])] + \\\n",
        "                  activity_selection_recursive(starts, finishes, finishes[index], index + 1)\n",
        "    else:\n",
        "        # Pula a atividade atual\n",
        "        include = activity_selection_recursive(starts, finishes, last_finish, index + 1)\n",
        "    return include\n",
        "\n",
        "\n",
        "def activity_selection(starts, finishes):\n",
        "    # Combina as listas de inícios (starts) e términos (finishes) em uma lista de tuplas (inicio, fim)\n",
        "    activities = list(zip(starts, finishes))\n",
        "    # Ordena as atividades pelo tempo de término (segunda posição da tupla) em ordem crescente\n",
        "    activities.sort(key=lambda x: x[1])\n",
        "\n",
        "    # Cria uma lista vazia para armazenar as atividades selecionadas\n",
        "    selected = []\n",
        "\n",
        "    # Variável para rastrear o tempo de término da última atividade selecionada (inicialmente -1 para nenhuma atividade)\n",
        "    tine = -1\n",
        "\n",
        "    # Itera sobre cada atividade ordenada\n",
        "    for start, finish in activities:\n",
        "        # Verifica se a atividade atual começa após ou exatamente quando a última atividade selecionada termina\n",
        "         if start >= tine:\n",
        "            # Adiciona a atividade atual (inicio, fim) à lista de atividades selecionadas\n",
        "            selected.append((start, finish))\n",
        "            # Atualiza o tempo de término da última atividade selecionada\n",
        "            tine = finish\n",
        "\n",
        "    # Retorna a lista de atividades selecionadas\n",
        "    return selected\n",
        "\n",
        "# Exemplo de uso\n",
        "starts = [1, 3, 0, 5, 8, 5]\n",
        "finishes = [2, 4, 6, 7, 9, 9]\n",
        "selected = activity_selection(starts, finishes)\n",
        "\n",
        "# Pré-processa ordenando por tempo de término\n",
        "activities = sorted(zip(starts, finishes), key=lambda x: x[1])\n",
        "starts, finishes = zip(*activities)\n",
        "\n",
        "result = activity_selection_recursive(starts, finishes)\n",
        "print(\"Atividades selecionadas (recursivo):\", result)\n",
        "# RESPOSTA ESPERADA\n",
        "# Atividades selecionadas (recursivo): [(1, 2), (3, 4), (5, 7), (8, 9)]\n",
        "\n"
      ]
    },
    {
      "cell_type": "code",
      "source": [
        "# Plot dos resultados\n",
        "plt.figure(figsize=(10,5))\n",
        "y_level = 1  # Para posicionar as barras das atividades\n",
        "height = 0.3\n",
        "\n",
        "# Plotar todas as atividades em uma cor neutra\n",
        "for s, f in zip(starts, finishes):\n",
        "    plt.barh(y_level, f - s, left=s, height=height, color='lightgray', edgecolor='black')\n",
        "\n",
        "# Destacar as atividades selecionadas em outra cor\n",
        "for s, f in selected:\n",
        "    plt.barh(y_level, f - s, left=s, height=height, color='green', edgecolor='black')\n",
        "\n",
        "plt.xlabel('Tempo')\n",
        "plt.ylabel('Atividades')\n",
        "plt.title('Seleção de Atividades - Atividades Selecionadas em Verde')\n",
        "\n",
        "# Ajusta o eixo Y para caber a barra\n",
        "plt.yticks([y_level], [\"Conjunto de Atividades\"])\n",
        "plt.ylim(y_level - 1, y_level + 2)\n",
        "plt.tight_layout()\n",
        "plt.show()"
      ],
      "metadata": {
        "id": "byGVUBy-LZ7H",
        "outputId": "2ba3e79c-dcab-4693-b031-9826f3acd5bb",
        "colab": {
          "base_uri": "https://localhost:8080/",
          "height": 507
        }
      },
      "id": "byGVUBy-LZ7H",
      "execution_count": 13,
      "outputs": [
        {
          "output_type": "display_data",
          "data": {
            "text/plain": [
              "<Figure size 1000x500 with 1 Axes>"
            ],
            "image/png": "[encoded data removed]"
          },
          "metadata": {}
        }
      ]
    },
    {
      "cell_type": "markdown",
      "id": "63676639",
      "metadata": {
        "id": "63676639"
      },
      "source": [
        "### 2.1.3 Problema das moedas ou troco mínimo"
      ]
    },
    {
      "cell_type": "markdown",
      "id": "3b84813b",
      "metadata": {
        "id": "3b84813b"
      },
      "source": [
        "**Introdução**  \n",
        "O problema das moedas (ou troco mínimo) é um problema clássico em algoritmos gulosos. Ele envolve determinar o menor número de moedas necessárias para alcançar um determinado valor, dado um conjunto de denominações de moedas.  \n",
        "  \n",
        "**Descrição**  \n",
        "- Dado:\n",
        "    - Um conjunto de denominações de moedas (por exemplo, [1, 5, 10, 25] para moedas de centavos).\n",
        "    - Um valor-alvo (por exemplo, 63 centavos).\n",
        "- Objetivo:\n",
        "    - Encontrar a combinação de moedas que totalize exatamente o valor-alvo utilizando o menor número possível de moedas.\n",
        "- Abordagem Gulosa:\n",
        "    - Ordenar as moedas em ordem decrescente de valor.\n",
        "    - Escolher a moeda de maior denominação possível para o restante do valor.\n",
        "    - Repetir até alcançar o valor-alvo.\n",
        "---\n",
        "**Implementação**  \n",
        "1. **Ordenação Decrescente**  \n",
        "As moedas são ordenadas em ordem decrescente para que o algoritmo guloso escolha primeiro as moedas de maior valor.\n",
        "\n",
        "2. **Escolha Gulosa**  \n",
        "Para cada moeda, o número máximo possível dessa denominação é usado (amount // coin). Isso reduz imediatamente o valor restante (amount -= count * coin).\n",
        "\n",
        "3. **Validação do Resultado**  \n",
        "Se ao final o valor restante (amount) não for zero, significa que não é possível atingir exatamente o valor-alvo com as moedas disponíveis.\n",
        "\n",
        "4. **Retorno**  \n",
        "O número total de moedas e a combinação (moeda, quantidade) são retornados.\n",
        "---\n",
        "**Exemplo de execução**  \n",
        "- **Entrada:**  \n",
        "    - Moedas: $[1, 5, 10, 25]$\n",
        "    - Valor: $63$\n",
        "\n",
        "- **Passos do Algoritmo:**  \n",
        "    - Escolhe 2 moedas de 25 centavos (valor restante: $63 - 50 = 13$).\n",
        "    - Escolhe 1 moeda de 10 centavos (valor restante: $13 - 10 = 3$).\n",
        "    - Escolhe 3 moedas de 1 centavo (valor restante: $3 - 3 = 0$).\n",
        "\n",
        "- **Saída:**  \n",
        "    - Número mínimo de moedas: $6$\n",
        "    - Combinação: $[(25, 2), (10, 1), (1, 3)]$"
      ]
    },
    {
      "cell_type": "code",
      "source": [
        "def coin_change_greedy_recursive(coins, amount, index=0, count=0):\n",
        "    \"\"\"\n",
        "    Resolve o problema das moedas recursivamente usando uma abordagem gulosa.\n",
        "    :param coins: Lista de denominações ordenadas em ordem decrescente.\n",
        "    :param amount: Valor restante a ser atingido.\n",
        "    :param index: Índice da moeda atual a ser considerada.\n",
        "    :param count: Contador de moedas utilizadas até agora.\n",
        "    :return: Número mínimo de moedas usadas ou float('inf') se não for possível.\n",
        "    \"\"\"\n",
        "    # Caso base: valor restante é 0, solução encontrada\n",
        "    if amount == 0:\n",
        "        return count\n",
        "\n",
        "    # Caso base: índice fora da lista ou valor restante negativo (solução inválida)\n",
        "    if index >= len(coins) or amount < 0:\n",
        "        return float('inf')\n",
        "# coins = [1, 5, 10, 25]\n",
        "# amount = 63, index = 0, count = 0\n",
        "# max_coins_for_this_denomination = 63 // 25 = 2\n",
        "    # amount = 13, index = 1, count = 2\n",
        "    # max_coins_for_this_denomination = 13 // 10 = 1\n",
        "        # amount = 3, index = 2, count = 3\n",
        "        # max_coins_for_this_denomination = 3 // 1 = 3\n",
        "            # amount = 0, index = 3, count = 6\n",
        "    # Escolha gulosa: pega o maior número possível da moeda atual\n",
        "    max_coins_for_this_denomination =amount // coins[index]\n",
        "\n",
        "    # Chama recursivamente para cada número de moedas possível dessa denominação\n",
        "    best = float('inf')\n",
        "    for i in range(max_coins_for_this_denomination + 1):\n",
        "        # Reduz a quantidade do valor restante e chama a função recursiva\n",
        "        new_count = count + i\n",
        "        new_amount = amount - i * coins[index]\n",
        "        result = coin_change_greedy_recursive(coins, new_amount, index + 1, new_count)\n",
        "        best = min(best, result)\n",
        "\n",
        "    return best\n",
        "\n",
        "# Wrapper para ordenar as moedas antes da recursão\n",
        "def coin_change_greedy(coins, amount):\n",
        "    # Ordena as moedas em ordem decrescente para garantir a escolha gulosa\n",
        "    coins.sort(reverse = True)\n",
        "    result = coin_change_greedy_recursive(coins, amount)\n",
        "    return result if result != float('inf') else -1"
      ],
      "metadata": {
        "id": "gDbhHMMiUZDd"
      },
      "id": "gDbhHMMiUZDd",
      "execution_count": 3,
      "outputs": []
    },
    {
      "cell_type": "code",
      "source": [
        "def coin_change(coins, amount):\n",
        "    \"\"\"\n",
        "    Encontra o número mínimo de moedas para atingir um determinado valor.\n",
        "    :param coins: Lista de denominações das moedas.\n",
        "    :param amount: Valor-alvo.\n",
        "    :return: Número total de moedas usadas e a combinação de moedas.\n",
        "    \"\"\"\n",
        "    # Ordena as moedas em ordem decrescente\n",
        "    coins.sort(reverse=True)\n",
        "\n",
        "    # Inicializa as variáveis\n",
        "    num_coins =   0# Contador do número total de moedas usadas\n",
        "    result =    []  # Lista para armazenar a combinação de moedas\n",
        "\n",
        "    for coin in coins:\n",
        "        # Calcula quantas moedas dessa denominação podem ser usadas\n",
        "         # se contagem for maior que 0\n",
        "        count = amount // coin\n",
        "        if count > 0:\n",
        "            result.append((coin, count))\n",
        "            num_coins += count   # Atualiza o número total de moedas usadas\n",
        "            amount -= count * coin  # Reduz o valor restante\n",
        "\n",
        "\n",
        "        # Se o valor restante for zero, termina o processo\n",
        "        if amount == 0:\n",
        "            break\n",
        "\n",
        "    # Caso não seja possível formar o valor exatamente (exemplo: moedas insuficientes)\n",
        "    if amount > 0:\n",
        "        return -1, []  # Retorna -1 indicando que não foi possível atingir o valor\n",
        "\n",
        "    return num_coins, result"
      ],
      "metadata": {
        "id": "TRPUPVgncrvr"
      },
      "id": "TRPUPVgncrvr",
      "execution_count": 1,
      "outputs": []
    },
    {
      "cell_type": "code",
      "source": [
        "def coin_change(coins, amount):\n",
        "    \"\"\"\n",
        "    Encontra o número mínimo de moedas para atingir um determinado valor.\n",
        "    :param coins: Lista de denominações das moedas.\n",
        "    :param amount: Valor-alvo.\n",
        "    :return: Número total de moedas usadas e a combinação de moedas.\n",
        "    \"\"\"\n",
        "    # Ordena as moedas em ordem decrescente\n",
        "    coins.sort(reverse=True)\n",
        "\n",
        "    # Inicializa as variáveis\n",
        "    num_coins = 0  # Contador do número total de moedas usadas\n",
        "    result = []  # Lista para armazenar a combinação de moedas\n",
        "\n",
        "    for coin in coins:\n",
        "        # Calcula quantas moedas dessa denominação podem ser usadas\n",
        "        count = amount // coin\n",
        "        if count > 0:\n",
        "            result.append((coin, count))  # Adiciona a moeda e sua quantidade na solução\n",
        "            num_coins += count  # Atualiza o número total de moedas usadas\n",
        "            amount -= count * coin  # Reduz o valor restante\n",
        "\n",
        "        # Se o valor restante for zero, termina o processo\n",
        "        if amount == 0:\n",
        "            break\n",
        "\n",
        "    # Caso não seja possível formar o valor exatamente (exemplo: moedas insuficientes)\n",
        "    if amount > 0:\n",
        "        return -1, []  # Retorna -1 indicando que não foi possível atingir o valor\n",
        "\n",
        "    return num_coins, result\n"
      ],
      "metadata": {
        "id": "EjfYYqWXcvC6"
      },
      "id": "EjfYYqWXcvC6",
      "execution_count": 4,
      "outputs": []
    },
    {
      "cell_type": "code",
      "execution_count": 5,
      "id": "820ae46f",
      "metadata": {
        "id": "820ae46f",
        "outputId": "fe3827f9-6f25-4b72-d349-bc61c2d1b681",
        "colab": {
          "base_uri": "https://localhost:8080/"
        }
      },
      "outputs": [
        {
          "output_type": "stream",
          "name": "stdout",
          "text": [
            "Número mínimo de moedas: 6\n",
            "Combinação de moedas:\n",
            "2 moeda(s) de 25\n",
            "1 moeda(s) de 10\n",
            "3 moeda(s) de 1\n",
            "Número mínimo de moedas (guloso e recursivo): 6\n"
          ]
        }
      ],
      "source": [
        "# Exemplo de uso\n",
        "coins = [1, 5, 10, 25]\n",
        "amount = 63\n",
        "num_coins, combination = coin_change(coins, amount)\n",
        "\n",
        "print(\"Número mínimo de moedas:\", num_coins)\n",
        "# RESPOSTA ESPERADA\n",
        "# Número mínimo de moedas: 6\n",
        "print(\"Combinação de moedas:\")\n",
        "for coin, count in combination:\n",
        "    print(f\"{count} moeda(s) de {coin}\")\n",
        "    # RESPOSTA ESPERADA\n",
        "    # 2 moeda(s) de 25\n",
        "    # 1 moeda(s) de 10\n",
        "    # 3 moeda(s) de 1\n",
        "\n",
        "result = coin_change_greedy(coins, amount)\n",
        "print(\"Número mínimo de moedas (guloso e recursivo):\", result)\n",
        "# RESPOSTA ESPERADA\n",
        "# Número mínimo de moedas (guloso e recursivo): 6\n"
      ]
    },
    {
      "cell_type": "markdown",
      "id": "b9142e5e",
      "metadata": {
        "id": "b9142e5e"
      },
      "source": [
        "### 2.1.4 Algoritmo de Dijkstra"
      ]
    },
    {
      "cell_type": "markdown",
      "id": "a934c326",
      "metadata": {
        "id": "a934c326"
      },
      "source": [
        "**Introdução**  \n",
        "O algoritmo de Dijkstra é um algoritmo guloso utilizado para encontrar o caminho mais curto entre um vértice de origem e todos os outros vértices em um grafo ponderado com pesos não negativos.  \n",
        "Ele foi desenvolvido por Edsger W. Dijkstra em 1956 e é amplamente utilizado em problemas relacionados a redes, como:  -\n",
        "- Planejamento de rotas (GPS, transporte, logística).\n",
        "- Redes de computadores (roteamento de pacotes).\n",
        "- Circuitos eletrônicos e problemas de infraestrutura.\n",
        "  \n",
        "**Descrição**  \n",
        "- Entrada:\n",
        "    - Um grafo representado como uma lista de vértices e arestas, onde cada aresta possui um peso positivo.\n",
        "    - Um vértice de origem $S(source)$.\n",
        "- Saída:\n",
        "    - A menor distância do vértice de origem $S$ até todos os outros vértices no grafo.\n",
        "    - Opcionalmente, o caminho percorrido para alcançar cada vértice.\n",
        "- Abordagem Gulosa:\n",
        "    - A cada passo, o algoritmo escolhe o vértice não processado com a menor distância acumulada.\n",
        "    - Atualiza as distâncias de todos os vizinhos desse vértice, se encontrar um caminho mais curto.\n",
        "    - Uma vez processado, o vértice é considerado \"finalizado\" e não será revisitado.\n",
        "- Repetição:\n",
        "   - O processo se repete até que todos os vértices tenham sido processados.\n",
        "---\n",
        "**Implementação**  \n",
        "1. **Inicialização**  \n",
        "    - Inicialize todos os valores com infinito $(∞)$ ou $float('inf')$, exceto o vértice de origem, que terá distância 0.  \n",
        "    - A lista unvisited contém todos os vértices do grafo.\n",
        "\n",
        "2. **Seleção do Vértice com Menor Distância**  \n",
        "    - A cada iteração, o algoritmo encontra o vértice não processado com a menor distância acumulada usando a função $min()$ aplicada sobre a lista $unvisited$.\n",
        "        - A função $min()$ retorna o menor elemento de uma lista com base em um critério.\n",
        "        - O parâmetro $key$ é usado para especificar uma função que determina como os elementos serão comparados\n",
        "        - A expressão **lambda vertex: distances[vertex]** é uma função anônima que recebe um vertex como entrada e retorna $distances[vertex]$ (a distância acumulada do vértice até a origem).\n",
        "        - Exemplo:\n",
        "```    \n",
        "# Exemplo simples de min()\n",
        "lista = [5, 3, 8, 1]\n",
        "menor = min(lista)\n",
        "print(menor)  # Saída: 1\n",
        "\n",
        "# Parâmetro key\n",
        "key=lambda vertex: distances[vertex]\n",
        "\n",
        "# Exemplo com key e Lambda Function\n",
        "lista = ['a', 'bbb', 'cc']\n",
        "menor = min(lista, key=len)  # Menor com base no comprimento\n",
        "print(menor)  # Saída: 'a'\n",
        "\n",
        "```  \n",
        "3. **Relaxamento de Arestas**  \n",
        "Para cada vizinho do vértice atual, verifica se passar pelo vértice atual diminui a distância do vizinho. Se sim, atualiza a distância\n",
        "\n",
        "4. **Marcar como Visitado**  \n",
        "O vértice processado é removido da lista $unvisited$, garantindo que ele não será revisitado.\n",
        "\n",
        "5. **Repetição**  \n",
        "O processo continua até que todos os vértices tenham sido processados (a lista unvisited esteja vazia).\n",
        "\n",
        "---"
      ]
    },
    {
      "cell_type": "code",
      "execution_count": 8,
      "id": "fc7adacb",
      "metadata": {
        "id": "fc7adacb",
        "outputId": "1c8adfcb-d524-42c1-cb4c-38247eb9fd12",
        "colab": {
          "base_uri": "https://localhost:8080/"
        }
      },
      "outputs": [
        {
          "output_type": "stream",
          "name": "stdout",
          "text": [
            "Menor distância da cidade A\n",
            "Para A: 0\n",
            "Para B: 2\n",
            "Para C: 3\n",
            "Para D: 7\n",
            "Para E: 6\n"
          ]
        }
      ],
      "source": [
        "def dijkstra_list(graph, start):\n",
        "    \"\"\"\n",
        "    Encontra os menores caminhos de um vértice de origem para todos os outros usando Dijkstra.\n",
        "    Implementação usando lista simples em vez de fila de prioridade.\n",
        "\n",
        "    :param graph: Grafo representado como lista de adjacência {vértice: [(vizinho, peso), ...]}\n",
        "    :param start: Vértice de origem\n",
        "    :return: Dicionário com menores distâncias para cada vértice\n",
        "    \"\"\"\n",
        "    # Inicializa as distâncias com infinito\n",
        "\n",
        "    distances = {vertex: float('inf') for vertex in graph}\n",
        "    distances[start] =   0 # Distância da origem para ela mesma é 0\n",
        "\n",
        "    # Lista de vértices não processados\n",
        "    unvisited = list(graph.keys())\n",
        "\n",
        "    while unvisited:\n",
        "        # Encontra o vértice não processado com a menor distância acumulada\n",
        "        current_vertex = min(unvisited, key=lambda vertex: distances[vertex])\n",
        "\n",
        "        # Remove o vértice selecionado da lista de não processados\n",
        "        unvisited.remove(current_vertex)\n",
        "\n",
        "\n",
        "        # Atualiza as distâncias dos vizinhos do vértice atual\n",
        "        for neighbor, weight in graph[current_vertex]:\n",
        "            # Calcula a nova distância acumulada para o vizinho\n",
        "            new_distance = distances[current_vertex] + weight\n",
        "\n",
        "            # Atualiza se a nova distância for menor que a distância atual\n",
        "            if new_distance < distances[neighbor]:\n",
        "                distances[neighbor] = new_distance\n",
        "\n",
        "    return distances\n",
        "# A = 0, B = 2, C = 3, D = 9, E = 6\n",
        "#\n",
        "# Exemplo de Grafo\n",
        "graph = {\n",
        "    'A': [('B', 2), ('C', 4)],\n",
        "    'B': [('A', 2), ('C', 1), ('D', 7)],\n",
        "    'C': [('A', 4), ('B', 1), ('E', 3)],\n",
        "    'D': [('B', 7), ('E', 1)],\n",
        "    'E': [('C', 3), ('D', 1)],\n",
        "}\n",
        "\n",
        "# Cidade Origem\n",
        "start_city = 'A'\n",
        "shortest_paths = dijkstra_list(graph, start_city)\n",
        "\n",
        "# Imprime os resultados\n",
        "print(\"Menor distância da cidade\", start_city)\n",
        "for city, distance in shortest_paths.items():\n",
        "    print(f\"Para {city}: {distance}\")\n",
        "\n",
        "# RESPOSTA ESPERADA\n",
        "# Menor distância da cidade A\n",
        "# Para A: 0\n",
        "# Para B: 2\n",
        "# Para C: 3\n",
        "# Para D: 7\n",
        "# Para E: 6"
      ]
    },
    {
      "cell_type": "markdown",
      "id": "eb4c6ced",
      "metadata": {
        "id": "eb4c6ced"
      },
      "source": [
        "Para que o algoritmo de Dijkstra retorne não apenas as menores distâncias, mas também os caminhos percorridos, precisamos adicionar uma estrutura para rastrear os vértices predecessores. A partir desses predecessores, podemos reconstruir o caminho final ao final do algoritmo.\n",
        "\n",
        "**Modificações Necessárias**\n",
        "- Predecessores\n",
        "    - Adicionaremos um dicionário predecessors que armazena o \"pai\" de cada vértice no caminho mais curto.\n",
        "- Reconstrução do Caminho:\n",
        "    - Após calcular as menores distâncias, usaremos o dicionário de predecessores para reconstruir o caminho do vértice de origem até qualquer outro vértice."
      ]
    },
    {
      "cell_type": "code",
      "execution_count": null,
      "id": "ab3c3b9b",
      "metadata": {
        "id": "ab3c3b9b"
      },
      "outputs": [],
      "source": [
        "def dijkstra_list(graph, start):\n",
        "    \"\"\"\n",
        "    Encontra os menores caminhos de um vértice de origem para todos os outros usando Dijkstra.\n",
        "    Retorna as menores distâncias e os caminhos percorridos.\n",
        "\n",
        "    :param graph: Grafo representado como lista de adjacência {vértice: [(vizinho, peso), ...]}\n",
        "    :param start: Vértice de origem\n",
        "    :return: Dicionário com menores distâncias e dicionário de predecessores para reconstruir os caminhos\n",
        "    \"\"\"\n",
        "    # Inicializa as distâncias com infinito\n",
        "\n",
        "    # Distância da origem para ela mesma é 0\n",
        "\n",
        "    # Dicionário para rastrear o \"pai\" de cada vértice no caminho mais curto\n",
        "    predecessors = {vertex: None for vertex in graph}\n",
        "\n",
        "    # Cria Lista de vértices não processados\n",
        "\n",
        "    # Enquanto houver vértices não processados\n",
        "    while :\n",
        "        # Encontra o vértice não processado com a menor distância acumulada\n",
        "        current_vertex =\n",
        "\n",
        "        # Remove o vértice selecionado da lista de não processados\n",
        "\n",
        "\n",
        "        # Atualiza as distâncias dos vizinhos do vértice atual\n",
        "        for :\n",
        "            # Calcula a nova distância acumulada para o vizinho\n",
        "\n",
        "            # Atualiza se a nova distância for menor que a distância atual\n",
        "            if :\n",
        "                # Atualiza a distância do vizinho\n",
        "\n",
        "                # Atualiza o \"pai\" do vizinho\n",
        "\n",
        "\n",
        "    # Retorna as distâncias e os predecessores\n",
        "    return\n",
        "\n",
        "def reconstruct_path(predecessors, start, end):\n",
        "    \"\"\"\n",
        "    Reconstrói o caminho do vértice de origem até o vértice de destino usando predecessores.\n",
        "    :param predecessors: Dicionário com os predecessores de cada vértice.\n",
        "    :param start: Vértice de origem.\n",
        "    :param end: Vértice de destino.\n",
        "    :return: Lista com o caminho do início até o fim.\n",
        "    \"\"\"\n",
        "    # Cria uma lista para armazenar o caminho\n",
        "    path = []\n",
        "    # Começa pelo vértice de destino\n",
        "    current_vertex =\n",
        "\n",
        "    # Enquanto houver vértices anteriores a visitar (não chegou ao início)\n",
        "    while :\n",
        "        # Adiciona o vértice atual ao caminho\n",
        "\n",
        "        # Move para o vértice anterior\n",
        "        = predecessors[current_vertex]\n",
        "\n",
        "    # Inverte o caminho para que fique do início até o fim\n",
        "\n",
        "\n",
        "    # Se o caminho não começa no vértice de origem, não existe caminho\n",
        "    if :\n",
        "        return []\n",
        "\n",
        "    return path\n",
        "\n",
        "# Exemplo de Grafo\n",
        "graph = {\n",
        "    'A': [('B', 2), ('C', 4)],\n",
        "    'B': [('A', 2), ('C', 1), ('D', 7)],\n",
        "    'C': [('A', 4), ('B', 1), ('E', 3)],\n",
        "    'D': [('B', 7), ('E', 1)],\n",
        "    'E': [('C', 3), ('D', 1)],\n",
        "}\n",
        "\n",
        "# Cidade Origem\n",
        "start_city = 'A'\n",
        "shortest_distances, predecessors = dijkstra_list(graph, start_city)\n",
        "\n",
        "# Imprime os resultados\n",
        "print(\"Menor distância da cidade\", start_city)\n",
        "for city, distance in shortest_distances.items():\n",
        "    print(f\"Para {city}: {distance}\")\n",
        "    path = reconstruct_path(predecessors, start_city, city)\n",
        "    print(f\"  Caminho: {' -> '.join(path)}\")\n",
        "\n",
        "# RESPOSTA ESPERADA\n",
        "# Menor distância da cidade A\n",
        "# Para A: 0\n",
        "#   Caminho: A\n",
        "# Para B: 2\n",
        "#   Caminho: A -> B\n",
        "# Para C: 3\n",
        "#   Caminho: A -> B -> C\n",
        "# Para D: 7\n",
        "#   Caminho: A -> B -> C -> E -> D\n",
        "# Para E: 6\n",
        "#   Caminho: A -> B -> C -> E"
      ]
    },
    {
      "cell_type": "code",
      "execution_count": null,
      "id": "637140d6",
      "metadata": {
        "id": "637140d6"
      },
      "outputs": [],
      "source": [
        "import networkx as nx\n",
        "import matplotlib.pyplot as plt\n",
        "\n",
        "# nx.DiGraph(): Cria um grafo direcionado usando a biblioteca NetworkX.\n",
        "# Em um grafo direcionado, as arestas têm uma direção: de um nó origem para um nó destino.\n",
        "G = nx.DiGraph()\n",
        "# for node, edges in graph.items(): Itera sobre os vértices (node) e suas respectivas arestas (edges) no dicionário do grafo.\n",
        "for node, edges in graph.items():\n",
        "    # for neighbor, weight in edges: Para cada aresta, obtém o vizinho (neighbor) e o peso (weight) da conexão.\n",
        "    for neighbor, weight in edges:\n",
        "        # G.add_edge(node, neighbor, weight=weight): Adiciona uma aresta direcionada no grafo G entre o vértice node e o neighbor com o peso especificado.\n",
        "        G.add_edge(node, neighbor, weight=weight)\n",
        "\n",
        "# nx.spring_layout(G): Gera as posições dos nós no plano 2D usando o layout \"Spring\"\n",
        "pos = nx.spring_layout(G)\n",
        "# G.edges(data=True): Retorna todas as arestas com seus atributos (neste caso, o peso).\n",
        "# {(u, v): d['weight'] for u, v, d in G.edges(data=True)}: Cria um dicionário com as arestas e seus pesos.\n",
        "# A chave (u, v) representa a aresta entre os nós u e v. O valor d['weight'] é o peso da aresta.\n",
        "edge_labels = {(u, v): d['weight'] for u, v, d in G.edges(data=True)}\n",
        "\n",
        "plt.figure(figsize=(10, 6))\n",
        "# nx.draw(G, pos, ...): Desenha o grafo G com as posições definidas em pos.\n",
        "# with_labels=True: Mostra os rótulos dos nós.\n",
        "# node_size=2000: Define o tamanho dos nós.\n",
        "# node_color='skyblue': Define a cor dos nós.\n",
        "# edgecolors='black': Define a cor da borda dos nós.\n",
        "# font_size=15: Define o tamanho da fonte dos rótulos.\n",
        "nx.draw(G, pos, with_labels=True, node_color='skyblue', node_size=2000, font_size=15, font_color='black')\n",
        "# nx.draw_networkx_edge_labels: Desenha os rótulos (pesos) das arestas no grafo.\n",
        "# edge_labels: Dicionário com as arestas e seus pesos.\n",
        "# pos: Posições dos nós.\n",
        "# font_size=12: Define o tamanho da fonte dos rótulos das arestas.\n",
        "nx.draw_networkx_edge_labels(G, pos, edge_labels=edge_labels, font_size=12)\n",
        "\n",
        "# if path: Verifica se o caminho mais curto (path) foi encontrado.\n",
        "if path:\n",
        "    # Cria uma lista edges_in_path que contém todas as arestas no caminho mais curto.\n",
        "    # Cada aresta é representada como uma tupla (path[i], path[i + 1]), onde path[i] e path[i + 1] são nós consecutivos no caminho.\n",
        "    edges_in_path = [(path[i], path[i + 1]) for i in range(len(path) - 1)]\n",
        "    # nx.draw_networkx_edges: Desenha apenas as arestas especificadas em edgelist (neste caso, as do caminho mais curto).\n",
        "    # edge_color='red': Define a cor das arestas do caminho mais curto como vermelho.\n",
        "    # width=3: Define a largura das arestas do caminho mais curto como 3.\n",
        "    # edgelist=edges_in_path: Lista de arestas que compõem o caminho mais curto.\n",
        "    nx.draw_networkx_edges(G, pos, edgelist=edges_in_path, edge_color='red', width=3)\n",
        "\n",
        "plt.title(\"Grafo com Caminho Mais Curto Destacado (A → E)\")\n",
        "plt.show()"
      ]
    },
    {
      "cell_type": "markdown",
      "id": "87792765",
      "metadata": {
        "id": "87792765"
      },
      "source": [
        "## 2.2 Algoritmo A*"
      ]
    },
    {
      "cell_type": "markdown",
      "id": "e028a770",
      "metadata": {
        "id": "e028a770"
      },
      "source": [
        "---  \n",
        "\n",
        "**Objetivos da Aula**\n",
        "\n",
        "- Entender os conceitos básicos de busca informada na Inteligência Artificial.\n",
        "- Estudar o funcionamento do Algoritmo A*.\n",
        "- Compreender as características de admissibilidade e otimalidade do A*.\n",
        "- Implementar o algoritmo A* em um exemplo prático de busca de caminho mais curto.\n",
        "---"
      ]
    },
    {
      "cell_type": "markdown",
      "id": "56d0ec20",
      "metadata": {
        "id": "56d0ec20"
      },
      "source": [
        "### 2.2.1 **Introdução**"
      ]
    },
    {
      "cell_type": "markdown",
      "id": "483b259e",
      "metadata": {
        "id": "483b259e"
      },
      "source": [
        "O **Algoritmo A\\*** é uma técnica de **busca informada** usada para encontrar o **caminho mais curto** em grafos ponderados. Ele combina:\n",
        "- O **custo real acumulado** até o nó atual $ g(n) $.\n",
        "- A **heurística admissível** $ h(n) $, que estima o custo restante até o destino.\n",
        "\n",
        "Para cada nó $n$, o $A^*$ calcula o valor da função de avaliação:\n",
        "\n",
        "$$\n",
        "f(n) = g(n) + h(n)\n",
        "$$\n",
        "\n",
        "- **$ f(n) $**: Estimativa do custo total para alcançar o destino passando pelo nó $ n $.\n",
        "- **$ g(n) $**: Custo real acumulado do nó inicial até $ n $.\n",
        "- **$ h(n) $**: Estimativa do custo do nó $ n $ até o destino.\n",
        "\n",
        "O $A^*$ expande sempre o nó com o **menor valor de $ f(n) $**.  \n",
        "\n",
        "---"
      ]
    },
    {
      "cell_type": "markdown",
      "id": "52331718",
      "metadata": {
        "id": "52331718"
      },
      "source": [
        "### 2.2.2 **Propriedades do A\\***"
      ]
    },
    {
      "cell_type": "markdown",
      "id": "de722b58",
      "metadata": {
        "id": "de722b58"
      },
      "source": [
        "1. **Admissibilidade:**  \n",
        "   - A função heurística $h(n)$  é uma estimativa do custo para chegar do nó $n$ até o objetivo. Ela não é fornecida automaticamente; é algo que você precisa definir de acordo com o problema que está tentando resolver.\n",
        "   - A heurística $ h(n) $ é **admissível** se ela **nunca superestima** o custo real para alcançar o destino.\n",
        "   - Ou seja, $h(n)$ deve sempre ser **menor ou igual** ao verdadeiro custo mínimo de $n$ até o objetivo.\n",
        "\n",
        "2. **Otimalidade:**  \n",
        "   O $A^*$ encontra o **caminho ótimo** quando a heurística é admissível.\n",
        "\n",
        "3. **Consistência:**  \n",
        "   Em essência, uma heurística $h$ é consistente se, para qualquer nó $n$ e um de seus sucessores $n'$, a seguinte desigualdade é satisfeita:\n",
        "$$\n",
        "h(n) \\leq custo(n, n') + h(n')\n",
        "$$\n",
        "  \n",
        "onde $custo(n, n')$ é o custo para ir de $n$ para $n'$. O que isso significa na prática?\n",
        "\n",
        "- Interpretação Geométrica (Como se fosse uma distância)\n",
        "   - Pense em h como uma função que \"mede\" a distância (ou custo) estimada até o objetivo.\n",
        "   - Se h fosse realmente uma distância no espaço, então seria coerente que a distância de n até o objetivo não pudesse ser maior do que a distância de n até n' mais a distância de n' até o objetivo. Caso contrário, teríamos uma espécie de \"atalho\" que a heurística não consegue prever.\n",
        "- Garantia de Não Reabertura de Nós\n",
        "   - Uma heurística consistente assegura que, quando o A* extrai um nó n da sua lista de nós a serem explorados (a \"open list\") para expansão, o valor g(n) (o custo real para chegar até n) encontrado naquele momento já é o melhor possível\n",
        "   - Ou seja, f(n) = g(n) + h(n) nunca diminuirá ao se avançar pelo grafo\n",
        "   - Logo, não existe a necessidade de \"revisitar\" n no futuro com um custo melhor, uma vez que não há caminho mais curto que contraria a função h\n",
        "      - Em outras palavras, a consistência garante que, após expandir um nó, a melhor rota para aquele nó já foi encontrada\n",
        "      - Portanto, não haverá um momento posterior no algoritmo em que você encontre um caminho mais barato para chegar naquele nó"
      ]
    },
    {
      "cell_type": "markdown",
      "id": "5bd1750d",
      "metadata": {
        "id": "5bd1750d"
      },
      "source": [
        "**Exemplos**\n",
        "1. **Problema de Rotas em Mapas (Ex: Cidades e Distâncias)**\n",
        "    - Se você quer ir de uma cidade a outra em um mapa real, uma boa heurística é a distância em linha reta (distância euclidiana) entre o nó atual e o objetivo.\n",
        "    - Isso porque a distância em linha reta geralmente será menor ou igual à distância real ao longo das estradas (o que garante admissibilidade).\n",
        "1. **Grafos Genéricos sem Informação Geográfica**\n",
        "    - Se você não possui informação extra sobre o grafo, definir uma heurística admissível pode ser complicado.\n",
        "    - Às vezes se usa h(n) = 0 para todos os nós, o que degenera o A* para um Dijkstra (menos eficiente, mas ainda funciona).\n",
        "    - Em outros casos, se há alguma função que aproxima a dificuldade ou custo restante, pode-se usar essa aproximação.\n",
        "    - O importante é que ela não seja maior que o custo real mínimo restante.\n",
        "---"
      ]
    },
    {
      "cell_type": "markdown",
      "id": "d575c13d",
      "metadata": {
        "id": "d575c13d"
      },
      "source": [
        "### 2.2.3 **Aplicação do Algoritmo A\\***\n"
      ]
    },
    {
      "cell_type": "markdown",
      "id": "5c708b87",
      "metadata": {
        "id": "5c708b87"
      },
      "source": [
        "Vamos usar o $A^*$ para encontrar o caminho mais curto em um grafo simples."
      ]
    },
    {
      "cell_type": "code",
      "execution_count": null,
      "id": "412e7b5f",
      "metadata": {
        "id": "412e7b5f"
      },
      "outputs": [],
      "source": [
        "import time\n",
        "import sys\n",
        "\n",
        "def a_star_no_priority_queue(graph, heuristics, start, goal):\n",
        "    \"\"\"\n",
        "    Implementa o Algoritmo A* para encontrar o caminho mais curto.\n",
        "    Utiliza uma lista simples em vez de uma fila de prioridades.\n",
        "\n",
        "    :param graph: Grafo como lista de adjacência {nó: [(vizinho, custo), ...]}\n",
        "    :param heuristics: Dicionário de heurísticas {nó: h(n)}\n",
        "    :param start: Nó de partida\n",
        "    :param goal: Nó objetivo\n",
        "    :return: O menor caminho e seu custo total\n",
        "    \"\"\"\n",
        "    # Inicializa a lista de nós a serem processados\n",
        "    # Cada elemento tem o formato (f(n)=g(n)+h(n), g(n), nó atual, caminho percorrido até agora)\n",
        "    open_list = [(0 + heuristics[start], 0, start, [])]\n",
        "    # Conjunto para armazenar os nós que já foram visitados\n",
        "    visited = set()\n",
        "\n",
        "    # Enquanto houver nós na lista aberta (open_list)\n",
        "    while open_list:\n",
        "        # Ordena a lista aberta com base no valor de f(n)\n",
        "        # f(n) = g(n) + h(n) é o custo total estimado.\n",
        "        # usar funcao lambda para ordenar a lista aberta pela primeira coluna\n",
        "        open_list.sort(key=lambda x: x[0])\n",
        "\n",
        "        # Remove o nó com o menor f(n) da lista aberta\n",
        "        # Prencher o indice da funcao pop com ...\n",
        "        f, g, current, path = open_list.pop()\n",
        "\n",
        "        # Se o nó já foi visitado, pula para o próximo\n",
        "        if :\n",
        "            continue\n",
        "\n",
        "        # Adiciona o nó atual ao caminho\n",
        "        path = path + [current]\n",
        "        # Marca o nó atual como visitado\n",
        "        visited.add(current)\n",
        "\n",
        "        # Verifica se o nó atual é o objetivo\n",
        "        if :\n",
        "            return path, g  # Retorna o caminho completo e o custo total\n",
        "\n",
        "        # Expande os vizinhos do nó atual\n",
        "        for neighbor, cost in graph[current]:\n",
        "            # Se o vizinho ainda não foi visitado\n",
        "            if :\n",
        "                # g_new: o novo custo real até o vizinho = g atual + custo da aresta\n",
        "\n",
        "                # Calcula o custo total estimado f(n) = g(n) + h(n).\n",
        "\n",
        "                # Adiciona o vizinho à lista aberta com o novo custo e caminho\n",
        "                open_list.append((, , , ))\n",
        "\n",
        "    # Se nenhum caminho for encontrado, retorna None e custo infinito\n",
        "    return None, float('inf')\n",
        "\n",
        "\n",
        "# Exemplo de Grafo\n",
        "graph = {\n",
        "    'A': [('B', 2), ('C', 4)],  # Nó A conectado a B com custo 2, C com custo 4\n",
        "    'B': [('A', 2), ('C', 1), ('D', 7)],  # Nó B conectado a A, C e D com os respectivos custos\n",
        "    'C': [('A', 4), ('B', 1), ('E', 3)],  # Nó C conectado a A, B e E\n",
        "    'D': [('B', 7), ('E', 1)],  # Nó D conectado a B e E\n",
        "    'E': [('C', 3), ('D', 1)],  # Nó E conectado a C e D\n",
        "}\n",
        "\n",
        "# Dicionário de heurísticas: estimativa do custo de cada nó até o destino (E)\n",
        "heuristics = {\n",
        "    'A': 6,  # Estimativa de A até E\n",
        "    'B': 4,  # Estimativa de B até E\n",
        "    'C': 2,  # Estimativa de C até E\n",
        "    'D': 1,  # Estimativa de D até E\n",
        "    'E': 0,  # Estimativa de E até E (destino)\n",
        "}\n",
        "\n",
        "# Definindo o nó inicial e o nó objetivo\n",
        "start_node = 'A'\n",
        "goal_node = 'E'\n",
        "\n",
        "# Executa o algoritmo A* sem fila de prioridades\n",
        "path, cost = a_star_no_priority_queue(graph, heuristics, start_node, goal_node)\n",
        "\n",
        "# Imprime o resultado final\n",
        "print(\"Caminho mais curto:\", \" -> \".join(path))  # Imprime o caminho como sequência de nós\n",
        "# RESPOSTA ESPERADA\n",
        "# Caminho mais curto: A -> B -> C -> E\n",
        "print(\"Custo total:\", cost)  # Imprime o custo total do caminho\n",
        "# RESPOSTA ESPERADA\n",
        "# Custo total: 6"
      ]
    },
    {
      "cell_type": "markdown",
      "id": "af677147",
      "metadata": {
        "id": "af677147"
      },
      "source": [
        "\n",
        "**Explicação dos Principais Componentes**  \n",
        "\n",
        "---\n",
        "\n",
        "**1. Lista `open_list`**\n",
        "- A `open_list` armazena os **nós que ainda precisam ser processados**.\n",
        "- Cada elemento da lista é uma **tupla** com $f(n)$, $g(n)$, nó atual, caminho percorrido.\n",
        "  1. **$f(n)$:** Custo total estimado $ f(n) = g(n) + h(n) $.\n",
        "  2. **$g(n)$:** Custo real acumulado até o nó atual.\n",
        "  3. **Nó atual:** O vértice que está sendo expandido.\n",
        "  4. **Caminho percorrido:** Lista dos nós já visitados para alcançar o nó atual.\n",
        "\n",
        "```python\n",
        "(f(n), g(n), nó atual, caminho percorrido)\n",
        "```\n",
        "\n",
        "**2. Ordenação da Lista**\n",
        "- A lista `open_list` é ordenada em ordem crescente de $f(n)$.\n",
        "- Isso garante que o nó com o menor custo total estimado seja processado primeiro.\n",
        "```python\n",
        "open_list.sort(key=lambda x: x[0])\n",
        "```\n",
        "\n",
        "**3. Nó Visitado**\n",
        "- Os nós já visitados são armazenados em um conjunto chamado `(visited)`.\n",
        "- Isso evita a revisita de nós, o que tornaria o algoritmo menos eficiente.\n",
        "\n",
        "```python\n",
        "visited.add(current)\n",
        "if current in visited:\n",
        "    continue\n",
        "```\n",
        "\n",
        "**4. Cálculo de f(n)**\n",
        "$$\n",
        "f(n) = g(n) + h(n)\n",
        "$$\n",
        "\n",
        "```python\n",
        "g_new = g + cost       # Custo real acumulado\n",
        "f_new = g_new + heuristics[neighbor]  # Custo total estimado\n",
        "```\n",
        "\n",
        "**5. Caminho Encontrado**\n",
        "- Quando o nó atual coincide com o objetivo, o caminho percorrido e o custo total são retornados.\n",
        "```python\n",
        "if current == goal:\n",
        "    return path, g\n",
        "```\n",
        "\n",
        "**6. Caso Sem Solução**\n",
        "- Se a lista de nós a serem processados ficar vazia e o objetivo não for alcançado, retorna `None` e `float('inf')`.\n",
        "```python\n",
        "return None, float('inf')\n",
        "```\n"
      ]
    },
    {
      "cell_type": "code",
      "execution_count": null,
      "id": "b1f7ee2a",
      "metadata": {
        "id": "b1f7ee2a"
      },
      "outputs": [],
      "source": [
        "import networkx as nx\n",
        "import matplotlib.pyplot as plt\n",
        "\n",
        "# Criar o grafo\n",
        "G = nx.DiGraph()\n",
        "\n",
        "# Adiciona as arestas ao grafo com os respectivos pesos\n",
        "for node, edges in graph.items():\n",
        "    for neighbor, cost in edges:\n",
        "        G.add_edge(node, neighbor, weight=cost)\n",
        "\n",
        "# Posicionamento dos nós para visualização\n",
        "pos = nx.spring_layout(G)\n",
        "\n",
        "# Destacar as arestas do caminho mais curto\n",
        "edges_in_path = [(path[i], path[i+1]) for i in range(len(path)-1)]\n",
        "\n",
        "# Desenhar o grafo\n",
        "plt.figure(figsize=(10, 6))\n",
        "nx.draw(G, pos, with_labels=True, node_color='skyblue', node_size=2000, font_size=15, font_color='black')\n",
        "nx.draw_networkx_edge_labels(G, pos, edge_labels={(u, v): d['weight'] for u, v, d in G.edges(data=True)})\n",
        "nx.draw_networkx_edges(G, pos, edgelist=edges_in_path, edge_color='red', width=3)\n",
        "\n",
        "# Título do gráfico\n",
        "plt.title(\"Grafo com o Caminho Mais Curto Destacado (A* - Sem Fila de Prioridade)\")\n",
        "plt.show()"
      ]
    },
    {
      "cell_type": "markdown",
      "id": "a1db9411",
      "metadata": {
        "id": "a1db9411"
      },
      "source": [
        "### **2.2.4 Comparando os algoritmos**"
      ]
    },
    {
      "cell_type": "code",
      "execution_count": null,
      "id": "47bca595",
      "metadata": {
        "id": "47bca595"
      },
      "outputs": [],
      "source": [
        "import time\n",
        "import sys\n",
        "\n",
        "# Implementação do Algoritmo A* com cálculo de tempo e memória\n",
        "def a_star_no_priority_queue(graph, heuristics, start, goal):\n",
        "    \"\"\"\n",
        "    Implementa o Algoritmo A* para encontrar o caminho mais curto.\n",
        "    Utiliza uma lista simples em vez de uma fila de prioridades.\n",
        "\n",
        "    :param graph: Grafo como lista de adjacência {nó: [(vizinho, custo), ...]}\n",
        "    :param heuristics: Dicionário de heurísticas {nó: h(n)}\n",
        "    :param start: Nó de partida\n",
        "    :param goal: Nó objetivo\n",
        "    :return: O menor caminho, seu custo total, tempo de execução e memória utilizada\n",
        "    \"\"\"\n",
        "    start_time = time.time()  # Inicia a contagem do tempo\n",
        "    memory_usage = 0  # Inicializa o uso de memória\n",
        "    open_list = [(0 + heuristics[start], 0, start, [])]\n",
        "    visited = set()\n",
        "\n",
        "    while open_list:\n",
        "        open_list.sort(key=lambda x: x[0])\n",
        "        f, g, current, path = open_list.pop(0)\n",
        "        memory_usage += sys.getsizeof(open_list) + sys.getsizeof(visited) + sys.getsizeof(path)  # Cálculo da memória\n",
        "\n",
        "        if current in visited:\n",
        "            continue\n",
        "\n",
        "        path = path + [current]\n",
        "        visited.add(current)\n",
        "\n",
        "        if current == goal:\n",
        "            end_time = time.time()\n",
        "            execution_time = end_time - start_time\n",
        "            return path, g, execution_time, memory_usage  # Retorna com tempo e memória\n",
        "\n",
        "        for neighbor, cost in graph[current]:\n",
        "            if neighbor not in visited:\n",
        "                g_new = g + cost\n",
        "                f_new = g_new + heuristics[neighbor]\n",
        "                open_list.append((f_new, g_new, neighbor, path))\n",
        "\n",
        "    end_time = time.time()\n",
        "    execution_time = end_time - start_time\n",
        "    return None, float('inf'), execution_time, memory_usage\n",
        "\n",
        "\n",
        "# Implementação do Dijkstra com tempo e memória\n",
        "def dijkstra(graph, start, goal):\n",
        "    \"\"\"\n",
        "    Implementa o Algoritmo de Dijkstra para encontrar o caminho mais curto.\n",
        "\n",
        "    :param graph: Grafo como lista de adjacência {nó: [(vizinho, custo), ...]}\n",
        "    :param start: Nó de partida\n",
        "    :param goal: Nó objetivo\n",
        "    :return: O menor caminho, seu custo total, tempo de execução e memória utilizada\n",
        "    \"\"\"\n",
        "    start_time = time.time()  # Inicia a contagem do tempo\n",
        "    memory_usage = 0  # Inicializa o uso de memória\n",
        "    distances = {node: float('inf') for node in graph}\n",
        "    predecessors = {node: None for node in graph}\n",
        "    distances[start] = 0\n",
        "    unvisited = list(graph.keys())\n",
        "\n",
        "    while unvisited:\n",
        "        current = min(unvisited, key=lambda node: distances[node])\n",
        "        memory_usage += sys.getsizeof(unvisited) + sys.getsizeof(distances)  # Cálculo da memória\n",
        "\n",
        "        if distances[current] == float('inf') or current == goal:\n",
        "            break\n",
        "\n",
        "        unvisited.remove(current)\n",
        "\n",
        "        for neighbor, cost in graph[current]:\n",
        "            new_distance = distances[current] + cost\n",
        "            if new_distance < distances[neighbor]:\n",
        "                distances[neighbor] = new_distance\n",
        "                predecessors[neighbor] = current\n",
        "\n",
        "    # Reconstrução do caminho\n",
        "    path = []\n",
        "    current = goal\n",
        "    while predecessors[current] is not None:\n",
        "        path.insert(0, current)\n",
        "        current = predecessors[current]\n",
        "    if path:\n",
        "        path.insert(0, start)\n",
        "\n",
        "    end_time = time.time()\n",
        "    execution_time = end_time - start_time\n",
        "    return path, distances[goal], execution_time, memory_usage\n",
        "\n",
        "\n",
        "# Comparação entre A* e Dijkstra\n",
        "a_star_path, a_star_cost, a_star_time, a_star_memory = a_star_no_priority_queue(graph, heuristics, start_node, goal_node)\n",
        "dijkstra_path, dijkstra_cost, dijkstra_time, dijkstra_memory = dijkstra(graph, start_node, goal_node)\n",
        "\n",
        "# Resultados\n",
        "print(\"**Algoritmo A***\")\n",
        "print(\"Caminho mais curto:\", \" -> \".join(a_star_path))\n",
        "print(\"Custo total:\", a_star_cost)\n",
        "print(\"Tempo de execução (s):\", a_star_time)\n",
        "print(\"Memória utilizada (bytes):\", a_star_memory)\n",
        "\n",
        "print(\"\\n**Algoritmo de Dijkstra**\")\n",
        "print(\"Caminho mais curto:\", \" -> \".join(dijkstra_path))\n",
        "print(\"Custo total:\", dijkstra_cost)\n",
        "print(\"Tempo de execução (s):\", dijkstra_time)\n",
        "print(\"Memória utilizada (bytes):\", dijkstra_memory)\n"
      ]
    },
    {
      "cell_type": "markdown",
      "id": "5f4c4f1c",
      "metadata": {
        "id": "5f4c4f1c"
      },
      "source": [
        "Em um grafo pequeno, certas operações (como sorting) podem ser mais custosas do que a redução no número de nós visitados. Em problemas maiores, onde o A* com uma boa heurística reduza drasticamente o espaço de busca, a tendência é que o A* supere o Dijkstra em desempenho.\n",
        "\n",
        "No nosso exemplo, testamos com um grafo pequeno e uma heurística que não reduz o espaço de busca (afinal, h é próxima de zero ou não está fornecendo benefício). Isso faz com que Dijkstra apareça mais rápido e consuma menos memória no teste."
      ]
    }
  ],
  "metadata": {
    "kernelspec": {
      "display_name": "moda",
      "language": "python",
      "name": "python3"
    },
    "language_info": {
      "codemirror_mode": {
        "name": "ipython",
        "version": 3
      },
      "file_extension": ".py",
      "mimetype": "text/x-python",
      "name": "python",
      "nbconvert_exporter": "python",
      "pygments_lexer": "ipython3",
      "version": "3.8.5"
    },
    "colab": {
      "provenance": []
    }
  },
  "nbformat": 4,
  "nbformat_minor": 5
}